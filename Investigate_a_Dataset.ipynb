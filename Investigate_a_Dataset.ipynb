{
 "cells": [
  {
   "cell_type": "markdown",
   "metadata": {},
   "source": [
    "# Project: TMDb movie data analysis\n",
    "## Table of Contents\n",
    "- Introduction\n",
    "- Data Wrangling\n",
    "- Exploratory Data Analysis\n",
    "- Conclusions"
   ]
  },
  {
   "cell_type": "markdown",
   "metadata": {},
   "source": [
    "## Introduction"
   ]
  },
  {
   "cell_type": "markdown",
   "metadata": {},
   "source": [
    "To complete my Data Analysis project I am using TMDb movies dataset.\n",
    "\n",
    "\n",
    "This data set contains information about 10,000 movies collected from The Movie Database (TMDb), including user ratings and revenue."
   ]
  },
  {
   "cell_type": "markdown",
   "metadata": {},
   "source": [
    "- Certain columns, like ‘cast’ and ‘genres’, contain multiple values separated by pipe (|) characters.\n",
    "- There are some odd characters in the ‘cast’ column.\n",
    "- The final two columns ending with “_adj” show the budget and revenue of the associated movie in terms of 2010 dollars, accounting for inflation over time."
   ]
  },
  {
   "cell_type": "markdown",
   "metadata": {},
   "source": [
    "### From this dataset we could try to solve many different questions such as :"
   ]
  },
  {
   "cell_type": "markdown",
   "metadata": {},
   "source": [
    "- Is there an improvement in the quality of movies from year to year?\n",
    "\n",
    "- What kinds of properties are associated with movies that have high revenues?\n",
    "\n",
    "- Is the number of movies increase from year to year?\n",
    "\n",
    "- Is there a relation between a movie runtime and the vote average?\n",
    "\n",
    "- Who are the top 5 directors according to high revenues?\n",
    "\n",
    "- longest and shortest runtime values?\n",
    "\n",
    "- What is the most number of films for every genres all over the time?\n",
    "\n",
    "- largest and lowest budgets?\n",
    "\n",
    "- most and least earned revenu?\n",
    "\n",
    "- Who are the actors that have participated in more movies?\n",
    "\n",
    "- Average runtime?"
   ]
  },
  {
   "cell_type": "code",
   "execution_count": 171,
   "metadata": {},
   "outputs": [
    {
     "name": "stderr",
     "output_type": "stream",
     "text": [
      "UsageError: Line magic function `%` not found.\n"
     ]
    }
   ],
   "source": [
    "#importing important libraries \n",
    "\n",
    "import pandas as pd\n",
    "import numpy as np\n",
    "import csv\n",
    "from datetime import datetime\n",
    "import matplotlib.pyplot as plt\n",
    "import seaborn as sns\n",
    "\n",
    "% matplotlib inline\n",
    "\n",
    "pd.set_option(\"display.max_columns\",None)"
   ]
  },
  {
   "cell_type": "markdown",
   "metadata": {},
   "source": [
    "## Data Wrangling"
   ]
  },
  {
   "cell_type": "markdown",
   "metadata": {},
   "source": [
    "- load the data\n",
    "\n",
    "- check the data shape (10866 rows and 21 columns)\n",
    "\n",
    "- check the presence of null values ( Missing Values )\n",
    "\n",
    "- check the presence of duplications\n",
    "\n",
    "- check the presence of outliers"
   ]
  },
  {
   "cell_type": "code",
   "execution_count": 172,
   "metadata": {},
   "outputs": [],
   "source": [
    "#loading data from 'tmdb-movies.csv' file:\n",
    "\n",
    "df = pd.read_csv('tmdb-movies.csv')"
   ]
  },
  {
   "cell_type": "code",
   "execution_count": 173,
   "metadata": {},
   "outputs": [
    {
     "data": {
      "text/plain": [
       "(10866, 21)"
      ]
     },
     "execution_count": 173,
     "metadata": {},
     "output_type": "execute_result"
    }
   ],
   "source": [
    "#Check the shape of our data (rows , columns)\n",
    "\n",
    "df.shape"
   ]
  },
  {
   "cell_type": "code",
   "execution_count": 174,
   "metadata": {
    "scrolled": true
   },
   "outputs": [
    {
     "name": "stdout",
     "output_type": "stream",
     "text": [
      "<class 'pandas.core.frame.DataFrame'>\n",
      "RangeIndex: 10866 entries, 0 to 10865\n",
      "Data columns (total 21 columns):\n",
      " #   Column                Non-Null Count  Dtype  \n",
      "---  ------                --------------  -----  \n",
      " 0   id                    10866 non-null  int64  \n",
      " 1   imdb_id               10856 non-null  object \n",
      " 2   popularity            10866 non-null  float64\n",
      " 3   budget                10866 non-null  int64  \n",
      " 4   revenue               10866 non-null  int64  \n",
      " 5   original_title        10866 non-null  object \n",
      " 6   cast                  10790 non-null  object \n",
      " 7   homepage              2936 non-null   object \n",
      " 8   director              10822 non-null  object \n",
      " 9   tagline               8042 non-null   object \n",
      " 10  keywords              9373 non-null   object \n",
      " 11  overview              10862 non-null  object \n",
      " 12  runtime               10866 non-null  int64  \n",
      " 13  genres                10843 non-null  object \n",
      " 14  production_companies  9836 non-null   object \n",
      " 15  release_date          10866 non-null  object \n",
      " 16  vote_count            10866 non-null  int64  \n",
      " 17  vote_average          10866 non-null  float64\n",
      " 18  release_year          10866 non-null  int64  \n",
      " 19  budget_adj            10866 non-null  float64\n",
      " 20  revenue_adj           10866 non-null  float64\n",
      "dtypes: float64(4), int64(6), object(11)\n",
      "memory usage: 1.7+ MB\n"
     ]
    }
   ],
   "source": [
    "# the data info\n",
    "\n",
    "df.info()"
   ]
  },
  {
   "cell_type": "code",
   "execution_count": 175,
   "metadata": {},
   "outputs": [
    {
     "data": {
      "text/plain": [
       "id                         0\n",
       "imdb_id                   10\n",
       "popularity                 0\n",
       "budget                     0\n",
       "revenue                    0\n",
       "original_title             0\n",
       "cast                      76\n",
       "homepage                7930\n",
       "director                  44\n",
       "tagline                 2824\n",
       "keywords                1493\n",
       "overview                   4\n",
       "runtime                    0\n",
       "genres                    23\n",
       "production_companies    1030\n",
       "release_date               0\n",
       "vote_count                 0\n",
       "vote_average               0\n",
       "release_year               0\n",
       "budget_adj                 0\n",
       "revenue_adj                0\n",
       "dtype: int64"
      ]
     },
     "execution_count": 175,
     "metadata": {},
     "output_type": "execute_result"
    }
   ],
   "source": [
    "#Check how many NaN values in our data\n",
    "\n",
    "df.isnull().sum()"
   ]
  },
  {
   "cell_type": "code",
   "execution_count": 176,
   "metadata": {},
   "outputs": [
    {
     "data": {
      "text/html": [
       "<div>\n",
       "<style scoped>\n",
       "    .dataframe tbody tr th:only-of-type {\n",
       "        vertical-align: middle;\n",
       "    }\n",
       "\n",
       "    .dataframe tbody tr th {\n",
       "        vertical-align: top;\n",
       "    }\n",
       "\n",
       "    .dataframe thead th {\n",
       "        text-align: right;\n",
       "    }\n",
       "</style>\n",
       "<table border=\"1\" class=\"dataframe\">\n",
       "  <thead>\n",
       "    <tr style=\"text-align: right;\">\n",
       "      <th></th>\n",
       "      <th>id</th>\n",
       "      <th>imdb_id</th>\n",
       "      <th>popularity</th>\n",
       "      <th>budget</th>\n",
       "      <th>revenue</th>\n",
       "      <th>original_title</th>\n",
       "      <th>cast</th>\n",
       "      <th>homepage</th>\n",
       "      <th>director</th>\n",
       "      <th>tagline</th>\n",
       "      <th>...</th>\n",
       "      <th>overview</th>\n",
       "      <th>runtime</th>\n",
       "      <th>genres</th>\n",
       "      <th>production_companies</th>\n",
       "      <th>release_date</th>\n",
       "      <th>vote_count</th>\n",
       "      <th>vote_average</th>\n",
       "      <th>release_year</th>\n",
       "      <th>budget_adj</th>\n",
       "      <th>revenue_adj</th>\n",
       "    </tr>\n",
       "  </thead>\n",
       "  <tbody>\n",
       "    <tr>\n",
       "      <th>0</th>\n",
       "      <td>135397</td>\n",
       "      <td>tt0369610</td>\n",
       "      <td>32.985763</td>\n",
       "      <td>150000000</td>\n",
       "      <td>1513528810</td>\n",
       "      <td>Jurassic World</td>\n",
       "      <td>Chris Pratt|Bryce Dallas Howard|Irrfan Khan|Vi...</td>\n",
       "      <td>http://www.jurassicworld.com/</td>\n",
       "      <td>Colin Trevorrow</td>\n",
       "      <td>The park is open.</td>\n",
       "      <td>...</td>\n",
       "      <td>Twenty-two years after the events of Jurassic ...</td>\n",
       "      <td>124</td>\n",
       "      <td>Action|Adventure|Science Fiction|Thriller</td>\n",
       "      <td>Universal Studios|Amblin Entertainment|Legenda...</td>\n",
       "      <td>6/9/15</td>\n",
       "      <td>5562</td>\n",
       "      <td>6.5</td>\n",
       "      <td>2015</td>\n",
       "      <td>1.379999e+08</td>\n",
       "      <td>1.392446e+09</td>\n",
       "    </tr>\n",
       "    <tr>\n",
       "      <th>1</th>\n",
       "      <td>76341</td>\n",
       "      <td>tt1392190</td>\n",
       "      <td>28.419936</td>\n",
       "      <td>150000000</td>\n",
       "      <td>378436354</td>\n",
       "      <td>Mad Max: Fury Road</td>\n",
       "      <td>Tom Hardy|Charlize Theron|Hugh Keays-Byrne|Nic...</td>\n",
       "      <td>http://www.madmaxmovie.com/</td>\n",
       "      <td>George Miller</td>\n",
       "      <td>What a Lovely Day.</td>\n",
       "      <td>...</td>\n",
       "      <td>An apocalyptic story set in the furthest reach...</td>\n",
       "      <td>120</td>\n",
       "      <td>Action|Adventure|Science Fiction|Thriller</td>\n",
       "      <td>Village Roadshow Pictures|Kennedy Miller Produ...</td>\n",
       "      <td>5/13/15</td>\n",
       "      <td>6185</td>\n",
       "      <td>7.1</td>\n",
       "      <td>2015</td>\n",
       "      <td>1.379999e+08</td>\n",
       "      <td>3.481613e+08</td>\n",
       "    </tr>\n",
       "    <tr>\n",
       "      <th>2</th>\n",
       "      <td>262500</td>\n",
       "      <td>tt2908446</td>\n",
       "      <td>13.112507</td>\n",
       "      <td>110000000</td>\n",
       "      <td>295238201</td>\n",
       "      <td>Insurgent</td>\n",
       "      <td>Shailene Woodley|Theo James|Kate Winslet|Ansel...</td>\n",
       "      <td>http://www.thedivergentseries.movie/#insurgent</td>\n",
       "      <td>Robert Schwentke</td>\n",
       "      <td>One Choice Can Destroy You</td>\n",
       "      <td>...</td>\n",
       "      <td>Beatrice Prior must confront her inner demons ...</td>\n",
       "      <td>119</td>\n",
       "      <td>Adventure|Science Fiction|Thriller</td>\n",
       "      <td>Summit Entertainment|Mandeville Films|Red Wago...</td>\n",
       "      <td>3/18/15</td>\n",
       "      <td>2480</td>\n",
       "      <td>6.3</td>\n",
       "      <td>2015</td>\n",
       "      <td>1.012000e+08</td>\n",
       "      <td>2.716190e+08</td>\n",
       "    </tr>\n",
       "  </tbody>\n",
       "</table>\n",
       "<p>3 rows × 21 columns</p>\n",
       "</div>"
      ],
      "text/plain": [
       "       id    imdb_id  popularity     budget     revenue      original_title  \\\n",
       "0  135397  tt0369610   32.985763  150000000  1513528810      Jurassic World   \n",
       "1   76341  tt1392190   28.419936  150000000   378436354  Mad Max: Fury Road   \n",
       "2  262500  tt2908446   13.112507  110000000   295238201           Insurgent   \n",
       "\n",
       "                                                cast  \\\n",
       "0  Chris Pratt|Bryce Dallas Howard|Irrfan Khan|Vi...   \n",
       "1  Tom Hardy|Charlize Theron|Hugh Keays-Byrne|Nic...   \n",
       "2  Shailene Woodley|Theo James|Kate Winslet|Ansel...   \n",
       "\n",
       "                                         homepage          director  \\\n",
       "0                   http://www.jurassicworld.com/   Colin Trevorrow   \n",
       "1                     http://www.madmaxmovie.com/     George Miller   \n",
       "2  http://www.thedivergentseries.movie/#insurgent  Robert Schwentke   \n",
       "\n",
       "                      tagline  ...  \\\n",
       "0           The park is open.  ...   \n",
       "1          What a Lovely Day.  ...   \n",
       "2  One Choice Can Destroy You  ...   \n",
       "\n",
       "                                            overview runtime  \\\n",
       "0  Twenty-two years after the events of Jurassic ...     124   \n",
       "1  An apocalyptic story set in the furthest reach...     120   \n",
       "2  Beatrice Prior must confront her inner demons ...     119   \n",
       "\n",
       "                                      genres  \\\n",
       "0  Action|Adventure|Science Fiction|Thriller   \n",
       "1  Action|Adventure|Science Fiction|Thriller   \n",
       "2         Adventure|Science Fiction|Thriller   \n",
       "\n",
       "                                production_companies release_date vote_count  \\\n",
       "0  Universal Studios|Amblin Entertainment|Legenda...       6/9/15       5562   \n",
       "1  Village Roadshow Pictures|Kennedy Miller Produ...      5/13/15       6185   \n",
       "2  Summit Entertainment|Mandeville Films|Red Wago...      3/18/15       2480   \n",
       "\n",
       "   vote_average  release_year    budget_adj   revenue_adj  \n",
       "0           6.5          2015  1.379999e+08  1.392446e+09  \n",
       "1           7.1          2015  1.379999e+08  3.481613e+08  \n",
       "2           6.3          2015  1.012000e+08  2.716190e+08  \n",
       "\n",
       "[3 rows x 21 columns]"
      ]
     },
     "execution_count": 176,
     "metadata": {},
     "output_type": "execute_result"
    }
   ],
   "source": [
    "df.head(3)"
   ]
  },
  {
   "cell_type": "code",
   "execution_count": 177,
   "metadata": {},
   "outputs": [
    {
     "data": {
      "text/plain": [
       "1"
      ]
     },
     "execution_count": 177,
     "metadata": {},
     "output_type": "execute_result"
    }
   ],
   "source": [
    "#Check how many duplicated rows in our data\n",
    "\n",
    "df.duplicated().sum()"
   ]
  },
  {
   "cell_type": "markdown",
   "metadata": {},
   "source": [
    "## Data Cleaning\n",
    "- Drop the unneeded columns\n",
    "\n",
    "    We don't need it in our analysis or it has a many null values\n",
    "\n",
    "- Drop the duplicates\n",
    "\n",
    "- Drop any row with NaN values ( Missing Values)\n",
    "\n",
    "    After the previous two steps I have checked the presence of NaN values and decided to drop them since that only two columns ( director , genres ) have NaN values --> In the worst case 44 + 23 = 67 rows ( Small number if compared with the shape of the whole data ) and the data in these two columns are names and categories ( Categorical Data ) so I can't replace these NaN values with an appropriate value\n",
    "\n",
    "\n",
    "- Dealing with the numeric outliers in these four columns ( budget , revenue , budget_adj , revenue_adj )\n",
    "\n",
    "    Since that 50% of the data in these four columns are zeroes, So I decided to replace all these zeroes with the Average of each column instead of droping the rows with zeroes in these columns"
   ]
  },
  {
   "cell_type": "code",
   "execution_count": 178,
   "metadata": {},
   "outputs": [
    {
     "data": {
      "text/plain": [
       "popularity        0\n",
       "budget            0\n",
       "revenue           0\n",
       "original_title    0\n",
       "director          0\n",
       "runtime           0\n",
       "genres            0\n",
       "vote_count        0\n",
       "vote_average      0\n",
       "release_year      0\n",
       "budget_adj        0\n",
       "revenue_adj       0\n",
       "month             0\n",
       "day name          0\n",
       "dtype: int64"
      ]
     },
     "execution_count": 178,
     "metadata": {},
     "output_type": "execute_result"
    }
   ],
   "source": [
    "#change release_date to data time and get some info from it like a day name and month of release\n",
    "\n",
    "df = pd.read_csv('tmdb-movies.csv')\n",
    "df['release_date']= pd.to_datetime(df['release_date'])\n",
    "df['month'] = df['release_date'].apply(lambda time:time.month)\n",
    "df['day name'] = df['release_date'].dt.day_name()\n",
    "\n",
    "#State the name of columns which we need to remove from our data\n",
    "\n",
    "dropped_cols = ['id','imdb_id','cast','homepage','tagline','keywords','overview','production_companies','release_date']\n",
    "\n",
    "#Drop the columns stated in the dropped_cols list\n",
    "\n",
    "df.drop(dropped_cols,axis=1,inplace=True)\n",
    "\n",
    "#Drop the duplicated rows\n",
    "\n",
    "df.drop_duplicates(inplace=True)\n",
    "\n",
    "#Drop the rows that have NaN values \n",
    "\n",
    "df.dropna(inplace=True)\n",
    "\n",
    "#Check how many NaN values in the data after the previous cleaning\n",
    "\n",
    "df.isnull().sum()"
   ]
  },
  {
   "cell_type": "code",
   "execution_count": 179,
   "metadata": {},
   "outputs": [
    {
     "name": "stdout",
     "output_type": "stream",
     "text": [
      "<class 'pandas.core.frame.DataFrame'>\n",
      "Int64Index: 10800 entries, 0 to 10865\n",
      "Data columns (total 14 columns):\n",
      " #   Column          Non-Null Count  Dtype  \n",
      "---  ------          --------------  -----  \n",
      " 0   popularity      10800 non-null  float64\n",
      " 1   budget          10800 non-null  int64  \n",
      " 2   revenue         10800 non-null  int64  \n",
      " 3   original_title  10800 non-null  object \n",
      " 4   director        10800 non-null  object \n",
      " 5   runtime         10800 non-null  int64  \n",
      " 6   genres          10800 non-null  object \n",
      " 7   vote_count      10800 non-null  int64  \n",
      " 8   vote_average    10800 non-null  float64\n",
      " 9   release_year    10800 non-null  int64  \n",
      " 10  budget_adj      10800 non-null  float64\n",
      " 11  revenue_adj     10800 non-null  float64\n",
      " 12  month           10800 non-null  int64  \n",
      " 13  day name        10800 non-null  object \n",
      "dtypes: float64(4), int64(6), object(4)\n",
      "memory usage: 1.2+ MB\n"
     ]
    }
   ],
   "source": [
    "df.info()"
   ]
  },
  {
   "cell_type": "code",
   "execution_count": 180,
   "metadata": {},
   "outputs": [
    {
     "data": {
      "text/plain": [
       "popularity        0\n",
       "budget            0\n",
       "revenue           0\n",
       "original_title    0\n",
       "director          0\n",
       "runtime           0\n",
       "genres            0\n",
       "vote_count        0\n",
       "vote_average      0\n",
       "release_year      0\n",
       "budget_adj        0\n",
       "revenue_adj       0\n",
       "month             0\n",
       "day name          0\n",
       "dtype: int64"
      ]
     },
     "execution_count": 180,
     "metadata": {},
     "output_type": "execute_result"
    }
   ],
   "source": [
    "#Check how many NaN values in the data after the previous cleaning\n",
    "\n",
    "df.isnull().sum()"
   ]
  },
  {
   "cell_type": "code",
   "execution_count": 181,
   "metadata": {},
   "outputs": [
    {
     "data": {
      "text/plain": [
       "(10800, 14)"
      ]
     },
     "execution_count": 181,
     "metadata": {},
     "output_type": "execute_result"
    }
   ],
   "source": [
    "#Check the shape of our data (rows , columns)\n",
    "\n",
    "df.shape"
   ]
  },
  {
   "cell_type": "code",
   "execution_count": 182,
   "metadata": {},
   "outputs": [
    {
     "data": {
      "text/html": [
       "<div>\n",
       "<style scoped>\n",
       "    .dataframe tbody tr th:only-of-type {\n",
       "        vertical-align: middle;\n",
       "    }\n",
       "\n",
       "    .dataframe tbody tr th {\n",
       "        vertical-align: top;\n",
       "    }\n",
       "\n",
       "    .dataframe thead th {\n",
       "        text-align: right;\n",
       "    }\n",
       "</style>\n",
       "<table border=\"1\" class=\"dataframe\">\n",
       "  <thead>\n",
       "    <tr style=\"text-align: right;\">\n",
       "      <th></th>\n",
       "      <th>popularity</th>\n",
       "      <th>budget</th>\n",
       "      <th>revenue</th>\n",
       "      <th>original_title</th>\n",
       "      <th>director</th>\n",
       "      <th>runtime</th>\n",
       "      <th>genres</th>\n",
       "      <th>vote_count</th>\n",
       "      <th>vote_average</th>\n",
       "      <th>release_year</th>\n",
       "      <th>budget_adj</th>\n",
       "      <th>revenue_adj</th>\n",
       "      <th>month</th>\n",
       "      <th>day name</th>\n",
       "    </tr>\n",
       "  </thead>\n",
       "  <tbody>\n",
       "    <tr>\n",
       "      <th>0</th>\n",
       "      <td>32.985763</td>\n",
       "      <td>150000000</td>\n",
       "      <td>1513528810</td>\n",
       "      <td>Jurassic World</td>\n",
       "      <td>Colin Trevorrow</td>\n",
       "      <td>124</td>\n",
       "      <td>Action|Adventure|Science Fiction|Thriller</td>\n",
       "      <td>5562</td>\n",
       "      <td>6.5</td>\n",
       "      <td>2015</td>\n",
       "      <td>1.379999e+08</td>\n",
       "      <td>1.392446e+09</td>\n",
       "      <td>6</td>\n",
       "      <td>Tuesday</td>\n",
       "    </tr>\n",
       "    <tr>\n",
       "      <th>1</th>\n",
       "      <td>28.419936</td>\n",
       "      <td>150000000</td>\n",
       "      <td>378436354</td>\n",
       "      <td>Mad Max: Fury Road</td>\n",
       "      <td>George Miller</td>\n",
       "      <td>120</td>\n",
       "      <td>Action|Adventure|Science Fiction|Thriller</td>\n",
       "      <td>6185</td>\n",
       "      <td>7.1</td>\n",
       "      <td>2015</td>\n",
       "      <td>1.379999e+08</td>\n",
       "      <td>3.481613e+08</td>\n",
       "      <td>5</td>\n",
       "      <td>Wednesday</td>\n",
       "    </tr>\n",
       "    <tr>\n",
       "      <th>2</th>\n",
       "      <td>13.112507</td>\n",
       "      <td>110000000</td>\n",
       "      <td>295238201</td>\n",
       "      <td>Insurgent</td>\n",
       "      <td>Robert Schwentke</td>\n",
       "      <td>119</td>\n",
       "      <td>Adventure|Science Fiction|Thriller</td>\n",
       "      <td>2480</td>\n",
       "      <td>6.3</td>\n",
       "      <td>2015</td>\n",
       "      <td>1.012000e+08</td>\n",
       "      <td>2.716190e+08</td>\n",
       "      <td>3</td>\n",
       "      <td>Wednesday</td>\n",
       "    </tr>\n",
       "    <tr>\n",
       "      <th>3</th>\n",
       "      <td>11.173104</td>\n",
       "      <td>200000000</td>\n",
       "      <td>2068178225</td>\n",
       "      <td>Star Wars: The Force Awakens</td>\n",
       "      <td>J.J. Abrams</td>\n",
       "      <td>136</td>\n",
       "      <td>Action|Adventure|Science Fiction|Fantasy</td>\n",
       "      <td>5292</td>\n",
       "      <td>7.5</td>\n",
       "      <td>2015</td>\n",
       "      <td>1.839999e+08</td>\n",
       "      <td>1.902723e+09</td>\n",
       "      <td>12</td>\n",
       "      <td>Tuesday</td>\n",
       "    </tr>\n",
       "    <tr>\n",
       "      <th>4</th>\n",
       "      <td>9.335014</td>\n",
       "      <td>190000000</td>\n",
       "      <td>1506249360</td>\n",
       "      <td>Furious 7</td>\n",
       "      <td>James Wan</td>\n",
       "      <td>137</td>\n",
       "      <td>Action|Crime|Thriller</td>\n",
       "      <td>2947</td>\n",
       "      <td>7.3</td>\n",
       "      <td>2015</td>\n",
       "      <td>1.747999e+08</td>\n",
       "      <td>1.385749e+09</td>\n",
       "      <td>4</td>\n",
       "      <td>Wednesday</td>\n",
       "    </tr>\n",
       "  </tbody>\n",
       "</table>\n",
       "</div>"
      ],
      "text/plain": [
       "   popularity     budget     revenue                original_title  \\\n",
       "0   32.985763  150000000  1513528810                Jurassic World   \n",
       "1   28.419936  150000000   378436354            Mad Max: Fury Road   \n",
       "2   13.112507  110000000   295238201                     Insurgent   \n",
       "3   11.173104  200000000  2068178225  Star Wars: The Force Awakens   \n",
       "4    9.335014  190000000  1506249360                     Furious 7   \n",
       "\n",
       "           director  runtime                                     genres  \\\n",
       "0   Colin Trevorrow      124  Action|Adventure|Science Fiction|Thriller   \n",
       "1     George Miller      120  Action|Adventure|Science Fiction|Thriller   \n",
       "2  Robert Schwentke      119         Adventure|Science Fiction|Thriller   \n",
       "3       J.J. Abrams      136   Action|Adventure|Science Fiction|Fantasy   \n",
       "4         James Wan      137                      Action|Crime|Thriller   \n",
       "\n",
       "   vote_count  vote_average  release_year    budget_adj   revenue_adj  month  \\\n",
       "0        5562           6.5          2015  1.379999e+08  1.392446e+09      6   \n",
       "1        6185           7.1          2015  1.379999e+08  3.481613e+08      5   \n",
       "2        2480           6.3          2015  1.012000e+08  2.716190e+08      3   \n",
       "3        5292           7.5          2015  1.839999e+08  1.902723e+09     12   \n",
       "4        2947           7.3          2015  1.747999e+08  1.385749e+09      4   \n",
       "\n",
       "    day name  \n",
       "0    Tuesday  \n",
       "1  Wednesday  \n",
       "2  Wednesday  \n",
       "3    Tuesday  \n",
       "4  Wednesday  "
      ]
     },
     "execution_count": 182,
     "metadata": {},
     "output_type": "execute_result"
    }
   ],
   "source": [
    "#print out the first  rows of our data\n",
    "\n",
    "df.head()"
   ]
  },
  {
   "cell_type": "code",
   "execution_count": 183,
   "metadata": {},
   "outputs": [],
   "source": [
    "#replacing 0 with NaN of budget_adj column in the dataset\n",
    "df['budget_adj_null'] =df['budget_adj'].replace(0, np.NAN)\n",
    "\n",
    "#replacing 0 with NaN of revenue column in the dataset\n",
    "df['revenue_null'] =df['revenue'].replace(0, np.NAN)\n",
    "\n",
    "#replacing 0 with NaN of revenue_adj column in the dataset\n",
    "df['revenue_adj_null'] =df['revenue_adj'].replace(0, np.NAN)\n",
    "\n",
    "#replacing 0 with NaN of release_year column in the dataset\n",
    "df['budget_null'] =df['budget'].replace(0, np.NAN)"
   ]
  },
  {
   "cell_type": "code",
   "execution_count": 184,
   "metadata": {},
   "outputs": [
    {
     "data": {
      "text/plain": [
       "popularity             0\n",
       "budget                 0\n",
       "revenue                0\n",
       "original_title         0\n",
       "director               0\n",
       "runtime                0\n",
       "genres                 0\n",
       "vote_count             0\n",
       "vote_average           0\n",
       "release_year           0\n",
       "budget_adj             0\n",
       "revenue_adj            0\n",
       "month                  0\n",
       "day name               0\n",
       "budget_adj_null     5636\n",
       "revenue_null        5952\n",
       "revenue_adj_null    5952\n",
       "budget_null         5636\n",
       "dtype: int64"
      ]
     },
     "execution_count": 184,
     "metadata": {},
     "output_type": "execute_result"
    }
   ],
   "source": [
    "#Check how many NaN values in the data after the previous cleaning\n",
    "\n",
    "df.isnull().sum()"
   ]
  },
  {
   "cell_type": "code",
   "execution_count": 185,
   "metadata": {},
   "outputs": [],
   "source": [
    "unique=df[\"release_year\"].unique()\n",
    "\n",
    "#get the mean budget for every year\n",
    "means_budget={}\n",
    "for year in unique:\n",
    "    means_budget[year]=df[df[\"release_year\"]==year]['budget'].mean()\n",
    "    \n",
    "#get the mean revenue for every year\n",
    "means_revenue={}\n",
    "for year in unique:\n",
    "    means_revenue[year]=df[df[\"release_year\"]==year]['revenue'].mean()\n",
    "    \n",
    "    \n",
    "#get the mean budget_adj for every year\n",
    "means_budget_adj={}\n",
    "for year in unique:\n",
    "    means_budget_adj[year]=df[df[\"release_year\"]==year]['budget_adj'].mean()\n",
    "    \n",
    "    \n",
    "#get the mean revenue_adj for every year\n",
    "means_revenue_adj={}\n",
    "for year in unique:\n",
    "    means_revenue_adj[year]=df[df[\"release_year\"]==year][\"revenue_adj\"].mean()\n",
    "    \n",
    "#means_year"
   ]
  },
  {
   "cell_type": "code",
   "execution_count": 186,
   "metadata": {},
   "outputs": [],
   "source": [
    "#This function takes the column name and the the value to be replaced and replace it with the mean of the value of \n",
    "#this column in the maen value of the year\n",
    "\n",
    "def get_mean(kind,year,rep,means):\n",
    "    df[kind].replace(rep,means[year],inplace=True)"
   ]
  },
  {
   "cell_type": "code",
   "execution_count": 187,
   "metadata": {},
   "outputs": [
    {
     "name": "stdout",
     "output_type": "stream",
     "text": [
      "Done\n"
     ]
    }
   ],
   "source": [
    "#Apply the function on the following columns ['revenue_adj','budget_adj','revenue','budget']\n",
    "\n",
    "df.apply(lambda row:get_mean('budget',row.release_year,0,means_budget),axis = 1)           \n",
    "df.apply(lambda row:get_mean('revenue',row.release_year,0,means_revenue),axis = 1)           \n",
    "df.apply(lambda row:get_mean('budget_adj',row.release_year,0,means_budget_adj),axis = 1)           \n",
    "df.apply(lambda row:get_mean('revenue_adj',row.release_year,0,means_revenue_adj),axis = 1) \n",
    "print(\"Done\")"
   ]
  },
  {
   "cell_type": "code",
   "execution_count": 188,
   "metadata": {},
   "outputs": [
    {
     "data": {
      "text/plain": [
       "popularity          0\n",
       "budget              0\n",
       "revenue             0\n",
       "original_title      0\n",
       "director            0\n",
       "runtime             0\n",
       "genres              0\n",
       "vote_count          0\n",
       "vote_average        0\n",
       "release_year        0\n",
       "budget_adj          0\n",
       "revenue_adj         0\n",
       "month               0\n",
       "day name            0\n",
       "budget_adj_null     0\n",
       "revenue_null        0\n",
       "revenue_adj_null    0\n",
       "budget_null         0\n",
       "dtype: int64"
      ]
     },
     "execution_count": 188,
     "metadata": {},
     "output_type": "execute_result"
    }
   ],
   "source": [
    "#replacing 0 with NaN of budget_adj column in the dataset\n",
    "df['budget_adj_null'] =df['budget_adj'].replace(0, np.NAN)\n",
    "\n",
    "#replacing 0 with NaN of revenue column in the dataset\n",
    "df['revenue_null'] =df['revenue'].replace(0, np.NAN)\n",
    "\n",
    "#replacing 0 with NaN of revenue_adj column in the dataset\n",
    "df['revenue_adj_null'] =df['revenue_adj'].replace(0, np.NAN)\n",
    "\n",
    "#replacing 0 with NaN of release_year column in the dataset\n",
    "df['budget_null'] =df['budget'].replace(0, np.NAN)\n",
    "\n",
    "#Check how many NaN values in the data after the previous cleaning\n",
    "\n",
    "df.isnull().sum()"
   ]
  },
  {
   "cell_type": "code",
   "execution_count": 189,
   "metadata": {},
   "outputs": [],
   "source": [
    "dropped_cols = ['budget_adj_null','revenue_null','revenue_adj_null','budget_null']\n",
    "\n",
    "#Drop the columns stated in the dropped_cols list\n",
    "\n",
    "df.drop(dropped_cols,axis=1,inplace=True)"
   ]
  },
  {
   "cell_type": "code",
   "execution_count": 190,
   "metadata": {},
   "outputs": [
    {
     "data": {
      "text/html": [
       "<div>\n",
       "<style scoped>\n",
       "    .dataframe tbody tr th:only-of-type {\n",
       "        vertical-align: middle;\n",
       "    }\n",
       "\n",
       "    .dataframe tbody tr th {\n",
       "        vertical-align: top;\n",
       "    }\n",
       "\n",
       "    .dataframe thead th {\n",
       "        text-align: right;\n",
       "    }\n",
       "</style>\n",
       "<table border=\"1\" class=\"dataframe\">\n",
       "  <thead>\n",
       "    <tr style=\"text-align: right;\">\n",
       "      <th></th>\n",
       "      <th>popularity</th>\n",
       "      <th>budget</th>\n",
       "      <th>revenue</th>\n",
       "      <th>original_title</th>\n",
       "      <th>director</th>\n",
       "      <th>runtime</th>\n",
       "      <th>genres</th>\n",
       "      <th>vote_count</th>\n",
       "      <th>vote_average</th>\n",
       "      <th>release_year</th>\n",
       "      <th>budget_adj</th>\n",
       "      <th>revenue_adj</th>\n",
       "      <th>month</th>\n",
       "      <th>day name</th>\n",
       "    </tr>\n",
       "  </thead>\n",
       "  <tbody>\n",
       "    <tr>\n",
       "      <th>9026</th>\n",
       "      <td>0.737255</td>\n",
       "      <td>1.217395e+07</td>\n",
       "      <td>1.409632e+07</td>\n",
       "      <td>Les MisÃ©rables</td>\n",
       "      <td>Bille August</td>\n",
       "      <td>134</td>\n",
       "      <td>Crime|Drama|History|Romance</td>\n",
       "      <td>79</td>\n",
       "      <td>6.7</td>\n",
       "      <td>1998</td>\n",
       "      <td>1.120003e+07</td>\n",
       "      <td>1.885658e+07</td>\n",
       "      <td>5</td>\n",
       "      <td>Friday</td>\n",
       "    </tr>\n",
       "    <tr>\n",
       "      <th>4135</th>\n",
       "      <td>0.177188</td>\n",
       "      <td>1.217395e+07</td>\n",
       "      <td>4.288854e+07</td>\n",
       "      <td>Saathiya</td>\n",
       "      <td>Shaad Ali</td>\n",
       "      <td>137</td>\n",
       "      <td>Drama|Romance|Foreign</td>\n",
       "      <td>11</td>\n",
       "      <td>5.3</td>\n",
       "      <td>2002</td>\n",
       "      <td>1.120003e+07</td>\n",
       "      <td>3.945744e+07</td>\n",
       "      <td>12</td>\n",
       "      <td>Friday</td>\n",
       "    </tr>\n",
       "    <tr>\n",
       "      <th>5892</th>\n",
       "      <td>0.248392</td>\n",
       "      <td>1.217395e+07</td>\n",
       "      <td>4.288854e+07</td>\n",
       "      <td>All Hallows' Eve</td>\n",
       "      <td>Damien Leone</td>\n",
       "      <td>82</td>\n",
       "      <td>Horror</td>\n",
       "      <td>29</td>\n",
       "      <td>4.7</td>\n",
       "      <td>2013</td>\n",
       "      <td>1.120003e+07</td>\n",
       "      <td>3.945744e+07</td>\n",
       "      <td>10</td>\n",
       "      <td>Tuesday</td>\n",
       "    </tr>\n",
       "    <tr>\n",
       "      <th>4688</th>\n",
       "      <td>0.292449</td>\n",
       "      <td>1.217395e+07</td>\n",
       "      <td>4.288854e+07</td>\n",
       "      <td>Barbie: The Princess &amp; The Popstar</td>\n",
       "      <td>Ezekiel Norton</td>\n",
       "      <td>86</td>\n",
       "      <td>Family|Animation</td>\n",
       "      <td>28</td>\n",
       "      <td>5.8</td>\n",
       "      <td>2012</td>\n",
       "      <td>1.120003e+07</td>\n",
       "      <td>3.945744e+07</td>\n",
       "      <td>9</td>\n",
       "      <td>Thursday</td>\n",
       "    </tr>\n",
       "    <tr>\n",
       "      <th>4645</th>\n",
       "      <td>0.344296</td>\n",
       "      <td>1.217395e+07</td>\n",
       "      <td>4.288854e+07</td>\n",
       "      <td>Side by Side</td>\n",
       "      <td>Christopher Kenneally</td>\n",
       "      <td>99</td>\n",
       "      <td>Documentary</td>\n",
       "      <td>63</td>\n",
       "      <td>7.0</td>\n",
       "      <td>2012</td>\n",
       "      <td>1.120003e+07</td>\n",
       "      <td>3.945744e+07</td>\n",
       "      <td>8</td>\n",
       "      <td>Sunday</td>\n",
       "    </tr>\n",
       "  </tbody>\n",
       "</table>\n",
       "</div>"
      ],
      "text/plain": [
       "      popularity        budget       revenue  \\\n",
       "9026    0.737255  1.217395e+07  1.409632e+07   \n",
       "4135    0.177188  1.217395e+07  4.288854e+07   \n",
       "5892    0.248392  1.217395e+07  4.288854e+07   \n",
       "4688    0.292449  1.217395e+07  4.288854e+07   \n",
       "4645    0.344296  1.217395e+07  4.288854e+07   \n",
       "\n",
       "                          original_title               director  runtime  \\\n",
       "9026                     Les MisÃ©rables           Bille August      134   \n",
       "4135                            Saathiya              Shaad Ali      137   \n",
       "5892                    All Hallows' Eve           Damien Leone       82   \n",
       "4688  Barbie: The Princess & The Popstar         Ezekiel Norton       86   \n",
       "4645                        Side by Side  Christopher Kenneally       99   \n",
       "\n",
       "                           genres  vote_count  vote_average  release_year  \\\n",
       "9026  Crime|Drama|History|Romance          79           6.7          1998   \n",
       "4135        Drama|Romance|Foreign          11           5.3          2002   \n",
       "5892                       Horror          29           4.7          2013   \n",
       "4688             Family|Animation          28           5.8          2012   \n",
       "4645                  Documentary          63           7.0          2012   \n",
       "\n",
       "        budget_adj   revenue_adj  month  day name  \n",
       "9026  1.120003e+07  1.885658e+07      5    Friday  \n",
       "4135  1.120003e+07  3.945744e+07     12    Friday  \n",
       "5892  1.120003e+07  3.945744e+07     10   Tuesday  \n",
       "4688  1.120003e+07  3.945744e+07      9  Thursday  \n",
       "4645  1.120003e+07  3.945744e+07      8    Sunday  "
      ]
     },
     "execution_count": 190,
     "metadata": {},
     "output_type": "execute_result"
    }
   ],
   "source": [
    "df.sample(5)"
   ]
  },
  {
   "cell_type": "code",
   "execution_count": 191,
   "metadata": {},
   "outputs": [],
   "source": [
    "#replacing 0 with NaN of runtime column in the dataset\n",
    "df['runtime'] =df['runtime'].replace(0, np.NAN)"
   ]
  },
  {
   "cell_type": "markdown",
   "metadata": {},
   "source": [
    "## Changing format of budget and revenue column.\n",
    "\n",
    "    Checking the current format of columns in the dataset"
   ]
  },
  {
   "cell_type": "code",
   "execution_count": 192,
   "metadata": {},
   "outputs": [
    {
     "data": {
      "text/plain": [
       "popularity        float64\n",
       "budget            float64\n",
       "revenue           float64\n",
       "original_title     object\n",
       "director           object\n",
       "runtime           float64\n",
       "genres             object\n",
       "vote_count          int64\n",
       "vote_average      float64\n",
       "release_year        int64\n",
       "budget_adj        float64\n",
       "revenue_adj       float64\n",
       "month               int64\n",
       "day name           object\n",
       "dtype: object"
      ]
     },
     "execution_count": 192,
     "metadata": {},
     "output_type": "execute_result"
    }
   ],
   "source": [
    "#printing the data type of the data set\n",
    "df.dtypes"
   ]
  },
  {
   "cell_type": "code",
   "execution_count": 193,
   "metadata": {},
   "outputs": [],
   "source": [
    "change_type=['revenue_adj','budget_adj','revenue','budget']\n",
    "#changing data type\n",
    "df[change_type]=df[change_type].applymap(np.int64)"
   ]
  },
  {
   "cell_type": "code",
   "execution_count": 194,
   "metadata": {},
   "outputs": [
    {
     "data": {
      "text/plain": [
       "popularity        float64\n",
       "budget              int64\n",
       "revenue             int64\n",
       "original_title     object\n",
       "director           object\n",
       "runtime           float64\n",
       "genres             object\n",
       "vote_count          int64\n",
       "vote_average      float64\n",
       "release_year        int64\n",
       "budget_adj          int64\n",
       "revenue_adj         int64\n",
       "month               int64\n",
       "day name           object\n",
       "dtype: object"
      ]
     },
     "execution_count": 194,
     "metadata": {},
     "output_type": "execute_result"
    }
   ],
   "source": [
    "#printing the changed information\n",
    "df.dtypes"
   ]
  },
  {
   "cell_type": "code",
   "execution_count": 195,
   "metadata": {},
   "outputs": [
    {
     "data": {
      "text/html": [
       "<div>\n",
       "<style scoped>\n",
       "    .dataframe tbody tr th:only-of-type {\n",
       "        vertical-align: middle;\n",
       "    }\n",
       "\n",
       "    .dataframe tbody tr th {\n",
       "        vertical-align: top;\n",
       "    }\n",
       "\n",
       "    .dataframe thead th {\n",
       "        text-align: right;\n",
       "    }\n",
       "</style>\n",
       "<table border=\"1\" class=\"dataframe\">\n",
       "  <thead>\n",
       "    <tr style=\"text-align: right;\">\n",
       "      <th></th>\n",
       "      <th>popularity</th>\n",
       "      <th>budget</th>\n",
       "      <th>revenue</th>\n",
       "      <th>profit_earned</th>\n",
       "      <th>original_title</th>\n",
       "      <th>director</th>\n",
       "      <th>runtime</th>\n",
       "      <th>genres</th>\n",
       "      <th>vote_count</th>\n",
       "      <th>vote_average</th>\n",
       "      <th>budget_adj</th>\n",
       "      <th>revenue_adj</th>\n",
       "      <th>profit_earned_adj</th>\n",
       "      <th>year</th>\n",
       "      <th>month</th>\n",
       "      <th>day name</th>\n",
       "    </tr>\n",
       "  </thead>\n",
       "  <tbody>\n",
       "    <tr>\n",
       "      <th>0</th>\n",
       "      <td>32.985763</td>\n",
       "      <td>150000000</td>\n",
       "      <td>1513528810</td>\n",
       "      <td>1363528810</td>\n",
       "      <td>Jurassic World</td>\n",
       "      <td>Colin Trevorrow</td>\n",
       "      <td>124.0</td>\n",
       "      <td>Action|Adventure|Science Fiction|Thriller</td>\n",
       "      <td>5562</td>\n",
       "      <td>6.5</td>\n",
       "      <td>137999939</td>\n",
       "      <td>1392445892</td>\n",
       "      <td>1254445953</td>\n",
       "      <td>2015</td>\n",
       "      <td>6</td>\n",
       "      <td>Tuesday</td>\n",
       "    </tr>\n",
       "    <tr>\n",
       "      <th>1</th>\n",
       "      <td>28.419936</td>\n",
       "      <td>150000000</td>\n",
       "      <td>378436354</td>\n",
       "      <td>228436354</td>\n",
       "      <td>Mad Max: Fury Road</td>\n",
       "      <td>George Miller</td>\n",
       "      <td>120.0</td>\n",
       "      <td>Action|Adventure|Science Fiction|Thriller</td>\n",
       "      <td>6185</td>\n",
       "      <td>7.1</td>\n",
       "      <td>137999939</td>\n",
       "      <td>348161292</td>\n",
       "      <td>210161353</td>\n",
       "      <td>2015</td>\n",
       "      <td>5</td>\n",
       "      <td>Wednesday</td>\n",
       "    </tr>\n",
       "  </tbody>\n",
       "</table>\n",
       "</div>"
      ],
      "text/plain": [
       "   popularity     budget     revenue  profit_earned      original_title  \\\n",
       "0   32.985763  150000000  1513528810     1363528810      Jurassic World   \n",
       "1   28.419936  150000000   378436354      228436354  Mad Max: Fury Road   \n",
       "\n",
       "          director  runtime                                     genres  \\\n",
       "0  Colin Trevorrow    124.0  Action|Adventure|Science Fiction|Thriller   \n",
       "1    George Miller    120.0  Action|Adventure|Science Fiction|Thriller   \n",
       "\n",
       "   vote_count  vote_average  budget_adj  revenue_adj  profit_earned_adj  year  \\\n",
       "0        5562           6.5   137999939   1392445892         1254445953  2015   \n",
       "1        6185           7.1   137999939    348161292          210161353  2015   \n",
       "\n",
       "   month   day name  \n",
       "0      6    Tuesday  \n",
       "1      5  Wednesday  "
      ]
     },
     "execution_count": 195,
     "metadata": {},
     "output_type": "execute_result"
    }
   ],
   "source": [
    "#insert function with three parameters(index of the column in the dataset, name of the column, value to be inserted)\n",
    "df.insert(3,'profit_earned',df['revenue']-df['budget'])\n",
    "df.insert(13,'profit_earned_adj',df['revenue_adj']-df['budget_adj'])\n",
    "df.insert(14,'year',df['release_year'])\n",
    "df.drop(['release_year'],axis=1,inplace=True)\n",
    "#previewing the changes in the dataset\n",
    "df.head(2)"
   ]
  },
  {
   "cell_type": "markdown",
   "metadata": {},
   "source": [
    "## Exploratory Data Analysis\n",
    "    I have used the analysis step to answer these questions which I have asked in my own "
   ]
  },
  {
   "cell_type": "markdown",
   "metadata": {},
   "source": [
    "## - What is the most number of films for every genres all over the time?"
   ]
  },
  {
   "cell_type": "code",
   "execution_count": 196,
   "metadata": {},
   "outputs": [
    {
     "data": {
      "image/png": "[encoded data removed]",
      "text/plain": [
       "<Figure size 864x648 with 1 Axes>"
      ]
     },
     "metadata": {
      "needs_background": "light"
     },
     "output_type": "display_data"
    }
   ],
   "source": [
    "def data(column_lable):\n",
    "    #will take a column, and separate the string by '|'\n",
    "    column_separate = df[column_lable].str.cat(sep = '|')\n",
    "    \n",
    "    #giving pandas series and storing the values separately\n",
    "    column_separate = pd.Series(column_separate.split('|'))\n",
    "    \n",
    "    #arranging in descending order\n",
    "    database = column_separate.value_counts(ascending = False)\n",
    "    \n",
    "    return database\n",
    "\n",
    "\n",
    "#variable to store the retured value\n",
    "database = data('genres')\n",
    "\n",
    "\n",
    "\n",
    "\n",
    "#Determine the data of the X axis and the data of the X axis\n",
    "\n",
    "x = database.index\n",
    "y = database\n",
    "\n",
    "#Plotting\n",
    "\n",
    "fig, ax = plt.subplots()\n",
    "\n",
    "#set the plot and ticks properties\n",
    "ax.figure.set_size_inches(12, 9)\n",
    "ax.set_xticklabels(x,rotation=90)\n",
    "ax.set_title(\"Genres\")\n",
    "ax.set_xlabel('Genres')\n",
    "ax.set_ylabel('No. of Movies')\n",
    "\n",
    "ax.bar(x, y);"
   ]
  },
  {
   "cell_type": "markdown",
   "metadata": {},
   "source": [
    "### Conclusions\n",
    "- Drama is the most kind of movies in Database ,the number of Drama movies=4754 \n",
    "- TV Movie is the less kind of movies in Database ,the number of TV Movie= 162 "
   ]
  },
  {
   "cell_type": "markdown",
   "metadata": {},
   "source": [
    "## Show an overview about the data"
   ]
  },
  {
   "cell_type": "code",
   "execution_count": 197,
   "metadata": {},
   "outputs": [
    {
     "data": {
      "text/html": [
       "<div>\n",
       "<style scoped>\n",
       "    .dataframe tbody tr th:only-of-type {\n",
       "        vertical-align: middle;\n",
       "    }\n",
       "\n",
       "    .dataframe tbody tr th {\n",
       "        vertical-align: top;\n",
       "    }\n",
       "\n",
       "    .dataframe thead th {\n",
       "        text-align: right;\n",
       "    }\n",
       "</style>\n",
       "<table border=\"1\" class=\"dataframe\">\n",
       "  <thead>\n",
       "    <tr style=\"text-align: right;\">\n",
       "      <th></th>\n",
       "      <th>revenue_adj</th>\n",
       "      <th>budget_adj</th>\n",
       "      <th>profit_earned_adj</th>\n",
       "      <th>revenue</th>\n",
       "      <th>budget</th>\n",
       "      <th>profit_earned</th>\n",
       "      <th>vote_count</th>\n",
       "      <th>vote_average</th>\n",
       "      <th>runtime</th>\n",
       "    </tr>\n",
       "  </thead>\n",
       "  <tbody>\n",
       "    <tr>\n",
       "      <th>count</th>\n",
       "      <td>1.080000e+04</td>\n",
       "      <td>1.080000e+04</td>\n",
       "      <td>1.080000e+04</td>\n",
       "      <td>1.080000e+04</td>\n",
       "      <td>1.080000e+04</td>\n",
       "      <td>1.080000e+04</td>\n",
       "      <td>10800.000000</td>\n",
       "      <td>10800.000000</td>\n",
       "      <td>10772.000000</td>\n",
       "    </tr>\n",
       "    <tr>\n",
       "      <th>mean</th>\n",
       "      <td>7.342257e+07</td>\n",
       "      <td>2.349913e+07</td>\n",
       "      <td>4.992344e+07</td>\n",
       "      <td>6.370193e+07</td>\n",
       "      <td>2.106414e+07</td>\n",
       "      <td>4.263779e+07</td>\n",
       "      <td>218.600741</td>\n",
       "      <td>5.970880</td>\n",
       "      <td>102.455347</td>\n",
       "    </tr>\n",
       "    <tr>\n",
       "      <th>std</th>\n",
       "      <td>1.384478e+08</td>\n",
       "      <td>3.173601e+07</td>\n",
       "      <td>1.215185e+08</td>\n",
       "      <td>1.110168e+08</td>\n",
       "      <td>2.846448e+07</td>\n",
       "      <td>9.320005e+07</td>\n",
       "      <td>577.165055</td>\n",
       "      <td>0.933006</td>\n",
       "      <td>30.379156</td>\n",
       "    </tr>\n",
       "    <tr>\n",
       "      <th>min</th>\n",
       "      <td>2.000000e+00</td>\n",
       "      <td>0.000000e+00</td>\n",
       "      <td>-4.139124e+08</td>\n",
       "      <td>2.000000e+00</td>\n",
       "      <td>1.000000e+00</td>\n",
       "      <td>-4.139124e+08</td>\n",
       "      <td>10.000000</td>\n",
       "      <td>1.500000</td>\n",
       "      <td>2.000000</td>\n",
       "    </tr>\n",
       "    <tr>\n",
       "      <th>25%</th>\n",
       "      <td>3.945744e+07</td>\n",
       "      <td>1.120003e+07</td>\n",
       "      <td>1.744532e+07</td>\n",
       "      <td>4.049083e+07</td>\n",
       "      <td>1.217395e+07</td>\n",
       "      <td>1.514215e+07</td>\n",
       "      <td>17.000000</td>\n",
       "      <td>5.400000</td>\n",
       "      <td>90.000000</td>\n",
       "    </tr>\n",
       "    <tr>\n",
       "      <th>50%</th>\n",
       "      <td>3.945744e+07</td>\n",
       "      <td>1.120003e+07</td>\n",
       "      <td>2.825741e+07</td>\n",
       "      <td>4.288854e+07</td>\n",
       "      <td>1.217395e+07</td>\n",
       "      <td>3.071459e+07</td>\n",
       "      <td>39.000000</td>\n",
       "      <td>6.000000</td>\n",
       "      <td>99.000000</td>\n",
       "    </tr>\n",
       "    <tr>\n",
       "      <th>75%</th>\n",
       "      <td>3.945744e+07</td>\n",
       "      <td>2.103337e+07</td>\n",
       "      <td>3.196784e+07</td>\n",
       "      <td>4.288854e+07</td>\n",
       "      <td>1.564374e+07</td>\n",
       "      <td>3.071459e+07</td>\n",
       "      <td>147.000000</td>\n",
       "      <td>6.600000</td>\n",
       "      <td>112.000000</td>\n",
       "    </tr>\n",
       "    <tr>\n",
       "      <th>max</th>\n",
       "      <td>2.827124e+09</td>\n",
       "      <td>4.250000e+08</td>\n",
       "      <td>2.750137e+09</td>\n",
       "      <td>2.781506e+09</td>\n",
       "      <td>4.250000e+08</td>\n",
       "      <td>2.544506e+09</td>\n",
       "      <td>9767.000000</td>\n",
       "      <td>9.200000</td>\n",
       "      <td>900.000000</td>\n",
       "    </tr>\n",
       "  </tbody>\n",
       "</table>\n",
       "</div>"
      ],
      "text/plain": [
       "        revenue_adj    budget_adj  profit_earned_adj       revenue  \\\n",
       "count  1.080000e+04  1.080000e+04       1.080000e+04  1.080000e+04   \n",
       "mean   7.342257e+07  2.349913e+07       4.992344e+07  6.370193e+07   \n",
       "std    1.384478e+08  3.173601e+07       1.215185e+08  1.110168e+08   \n",
       "min    2.000000e+00  0.000000e+00      -4.139124e+08  2.000000e+00   \n",
       "25%    3.945744e+07  1.120003e+07       1.744532e+07  4.049083e+07   \n",
       "50%    3.945744e+07  1.120003e+07       2.825741e+07  4.288854e+07   \n",
       "75%    3.945744e+07  2.103337e+07       3.196784e+07  4.288854e+07   \n",
       "max    2.827124e+09  4.250000e+08       2.750137e+09  2.781506e+09   \n",
       "\n",
       "             budget  profit_earned    vote_count  vote_average       runtime  \n",
       "count  1.080000e+04   1.080000e+04  10800.000000  10800.000000  10772.000000  \n",
       "mean   2.106414e+07   4.263779e+07    218.600741      5.970880    102.455347  \n",
       "std    2.846448e+07   9.320005e+07    577.165055      0.933006     30.379156  \n",
       "min    1.000000e+00  -4.139124e+08     10.000000      1.500000      2.000000  \n",
       "25%    1.217395e+07   1.514215e+07     17.000000      5.400000     90.000000  \n",
       "50%    1.217395e+07   3.071459e+07     39.000000      6.000000     99.000000  \n",
       "75%    1.564374e+07   3.071459e+07    147.000000      6.600000    112.000000  \n",
       "max    4.250000e+08   2.544506e+09   9767.000000      9.200000    900.000000  "
      ]
     },
     "execution_count": 197,
     "metadata": {},
     "output_type": "execute_result"
    }
   ],
   "source": [
    "describe=df[['revenue_adj','budget_adj','profit_earned_adj','revenue','budget','profit_earned','vote_count','vote_average','runtime']].describe()\n",
    "describe"
   ]
  },
  {
   "cell_type": "code",
   "execution_count": 198,
   "metadata": {},
   "outputs": [],
   "source": [
    "import pprint\n",
    "\n",
    "\n",
    "def get_table_details(column_name):\n",
    "    #for max\n",
    "    max_value= df[column_name].idxmax()\n",
    "    max_details=pd.DataFrame(df.loc[max_value])\n",
    "    \n",
    "    #for min \n",
    "    min_value= df[column_name].idxmin()\n",
    "    min_details=pd.DataFrame(df.loc[min_value])\n",
    "    \n",
    "    #concat max and min value\n",
    "    concat=pd.concat([max_details, min_details], axis=1)\n",
    "    \n",
    "    return concat"
   ]
  },
  {
   "cell_type": "markdown",
   "metadata": {},
   "source": [
    "## - Average runtime?"
   ]
  },
  {
   "cell_type": "code",
   "execution_count": 199,
   "metadata": {},
   "outputs": [
    {
     "data": {
      "text/plain": [
       "102.4553471964352"
      ]
     },
     "execution_count": 199,
     "metadata": {},
     "output_type": "execute_result"
    }
   ],
   "source": [
    "Average_runtime=describe['runtime']['mean']\n",
    "Average_runtime"
   ]
  },
  {
   "cell_type": "markdown",
   "metadata": {},
   "source": [
    "## - most and least earned revenue?"
   ]
  },
  {
   "cell_type": "code",
   "execution_count": 200,
   "metadata": {},
   "outputs": [
    {
     "data": {
      "text/html": [
       "<div>\n",
       "<style scoped>\n",
       "    .dataframe tbody tr th:only-of-type {\n",
       "        vertical-align: middle;\n",
       "    }\n",
       "\n",
       "    .dataframe tbody tr th {\n",
       "        vertical-align: top;\n",
       "    }\n",
       "\n",
       "    .dataframe thead th {\n",
       "        text-align: right;\n",
       "    }\n",
       "</style>\n",
       "<table border=\"1\" class=\"dataframe\">\n",
       "  <thead>\n",
       "    <tr style=\"text-align: right;\">\n",
       "      <th></th>\n",
       "      <th>1386</th>\n",
       "      <th>5067</th>\n",
       "    </tr>\n",
       "  </thead>\n",
       "  <tbody>\n",
       "    <tr>\n",
       "      <th>popularity</th>\n",
       "      <td>9.43277</td>\n",
       "      <td>0.462609</td>\n",
       "    </tr>\n",
       "    <tr>\n",
       "      <th>budget</th>\n",
       "      <td>237000000</td>\n",
       "      <td>6000000</td>\n",
       "    </tr>\n",
       "    <tr>\n",
       "      <th>revenue</th>\n",
       "      <td>2781505847</td>\n",
       "      <td>2</td>\n",
       "    </tr>\n",
       "    <tr>\n",
       "      <th>profit_earned</th>\n",
       "      <td>2544505847</td>\n",
       "      <td>-5999998</td>\n",
       "    </tr>\n",
       "    <tr>\n",
       "      <th>original_title</th>\n",
       "      <td>Avatar</td>\n",
       "      <td>Shattered Glass</td>\n",
       "    </tr>\n",
       "    <tr>\n",
       "      <th>director</th>\n",
       "      <td>James Cameron</td>\n",
       "      <td>Billy Ray</td>\n",
       "    </tr>\n",
       "    <tr>\n",
       "      <th>runtime</th>\n",
       "      <td>162</td>\n",
       "      <td>94</td>\n",
       "    </tr>\n",
       "    <tr>\n",
       "      <th>genres</th>\n",
       "      <td>Action|Adventure|Fantasy|Science Fiction</td>\n",
       "      <td>Drama|History</td>\n",
       "    </tr>\n",
       "    <tr>\n",
       "      <th>vote_count</th>\n",
       "      <td>8458</td>\n",
       "      <td>46</td>\n",
       "    </tr>\n",
       "    <tr>\n",
       "      <th>vote_average</th>\n",
       "      <td>7.1</td>\n",
       "      <td>6.4</td>\n",
       "    </tr>\n",
       "    <tr>\n",
       "      <th>budget_adj</th>\n",
       "      <td>240886902</td>\n",
       "      <td>7112115</td>\n",
       "    </tr>\n",
       "    <tr>\n",
       "      <th>revenue_adj</th>\n",
       "      <td>2827123750</td>\n",
       "      <td>2</td>\n",
       "    </tr>\n",
       "    <tr>\n",
       "      <th>profit_earned_adj</th>\n",
       "      <td>2586236848</td>\n",
       "      <td>-7112113</td>\n",
       "    </tr>\n",
       "    <tr>\n",
       "      <th>year</th>\n",
       "      <td>2009</td>\n",
       "      <td>2003</td>\n",
       "    </tr>\n",
       "    <tr>\n",
       "      <th>month</th>\n",
       "      <td>12</td>\n",
       "      <td>11</td>\n",
       "    </tr>\n",
       "    <tr>\n",
       "      <th>day name</th>\n",
       "      <td>Thursday</td>\n",
       "      <td>Friday</td>\n",
       "    </tr>\n",
       "  </tbody>\n",
       "</table>\n",
       "</div>"
      ],
      "text/plain": [
       "                                                       1386             5067\n",
       "popularity                                          9.43277         0.462609\n",
       "budget                                            237000000          6000000\n",
       "revenue                                          2781505847                2\n",
       "profit_earned                                    2544505847         -5999998\n",
       "original_title                                       Avatar  Shattered Glass\n",
       "director                                      James Cameron        Billy Ray\n",
       "runtime                                                 162               94\n",
       "genres             Action|Adventure|Fantasy|Science Fiction    Drama|History\n",
       "vote_count                                             8458               46\n",
       "vote_average                                            7.1              6.4\n",
       "budget_adj                                        240886902          7112115\n",
       "revenue_adj                                      2827123750                2\n",
       "profit_earned_adj                                2586236848         -7112113\n",
       "year                                                   2009             2003\n",
       "month                                                    12               11\n",
       "day name                                           Thursday           Friday"
      ]
     },
     "execution_count": 200,
     "metadata": {},
     "output_type": "execute_result"
    }
   ],
   "source": [
    "get_table_details('revenue')"
   ]
  },
  {
   "cell_type": "markdown",
   "metadata": {},
   "source": [
    "## - largest and lowest budgets?"
   ]
  },
  {
   "cell_type": "code",
   "execution_count": 201,
   "metadata": {},
   "outputs": [
    {
     "data": {
      "text/html": [
       "<div>\n",
       "<style scoped>\n",
       "    .dataframe tbody tr th:only-of-type {\n",
       "        vertical-align: middle;\n",
       "    }\n",
       "\n",
       "    .dataframe tbody tr th {\n",
       "        vertical-align: top;\n",
       "    }\n",
       "\n",
       "    .dataframe thead th {\n",
       "        text-align: right;\n",
       "    }\n",
       "</style>\n",
       "<table border=\"1\" class=\"dataframe\">\n",
       "  <thead>\n",
       "    <tr style=\"text-align: right;\">\n",
       "      <th></th>\n",
       "      <th>2244</th>\n",
       "      <th>1151</th>\n",
       "    </tr>\n",
       "  </thead>\n",
       "  <tbody>\n",
       "    <tr>\n",
       "      <th>popularity</th>\n",
       "      <td>0.25054</td>\n",
       "      <td>0.177102</td>\n",
       "    </tr>\n",
       "    <tr>\n",
       "      <th>budget</th>\n",
       "      <td>425000000</td>\n",
       "      <td>1</td>\n",
       "    </tr>\n",
       "    <tr>\n",
       "      <th>revenue</th>\n",
       "      <td>11087569</td>\n",
       "      <td>42888542</td>\n",
       "    </tr>\n",
       "    <tr>\n",
       "      <th>profit_earned</th>\n",
       "      <td>-413912431</td>\n",
       "      <td>42888541</td>\n",
       "    </tr>\n",
       "    <tr>\n",
       "      <th>original_title</th>\n",
       "      <td>The Warrior's Way</td>\n",
       "      <td>Fear Clinic</td>\n",
       "    </tr>\n",
       "    <tr>\n",
       "      <th>director</th>\n",
       "      <td>Sngmoo Lee</td>\n",
       "      <td>Robert Hall</td>\n",
       "    </tr>\n",
       "    <tr>\n",
       "      <th>runtime</th>\n",
       "      <td>100</td>\n",
       "      <td>95</td>\n",
       "    </tr>\n",
       "    <tr>\n",
       "      <th>genres</th>\n",
       "      <td>Adventure|Fantasy|Action|Western|Thriller</td>\n",
       "      <td>Horror</td>\n",
       "    </tr>\n",
       "    <tr>\n",
       "      <th>vote_count</th>\n",
       "      <td>74</td>\n",
       "      <td>15</td>\n",
       "    </tr>\n",
       "    <tr>\n",
       "      <th>vote_average</th>\n",
       "      <td>6.4</td>\n",
       "      <td>4.1</td>\n",
       "    </tr>\n",
       "    <tr>\n",
       "      <th>budget_adj</th>\n",
       "      <td>425000000</td>\n",
       "      <td>0</td>\n",
       "    </tr>\n",
       "    <tr>\n",
       "      <th>revenue_adj</th>\n",
       "      <td>11087569</td>\n",
       "      <td>39457441</td>\n",
       "    </tr>\n",
       "    <tr>\n",
       "      <th>profit_earned_adj</th>\n",
       "      <td>-413912431</td>\n",
       "      <td>39457441</td>\n",
       "    </tr>\n",
       "    <tr>\n",
       "      <th>year</th>\n",
       "      <td>2010</td>\n",
       "      <td>2014</td>\n",
       "    </tr>\n",
       "    <tr>\n",
       "      <th>month</th>\n",
       "      <td>12</td>\n",
       "      <td>10</td>\n",
       "    </tr>\n",
       "    <tr>\n",
       "      <th>day name</th>\n",
       "      <td>Thursday</td>\n",
       "      <td>Friday</td>\n",
       "    </tr>\n",
       "  </tbody>\n",
       "</table>\n",
       "</div>"
      ],
      "text/plain": [
       "                                                        2244         1151\n",
       "popularity                                           0.25054     0.177102\n",
       "budget                                             425000000            1\n",
       "revenue                                             11087569     42888542\n",
       "profit_earned                                     -413912431     42888541\n",
       "original_title                             The Warrior's Way  Fear Clinic\n",
       "director                                          Sngmoo Lee  Robert Hall\n",
       "runtime                                                  100           95\n",
       "genres             Adventure|Fantasy|Action|Western|Thriller       Horror\n",
       "vote_count                                                74           15\n",
       "vote_average                                             6.4          4.1\n",
       "budget_adj                                         425000000            0\n",
       "revenue_adj                                         11087569     39457441\n",
       "profit_earned_adj                                 -413912431     39457441\n",
       "year                                                    2010         2014\n",
       "month                                                     12           10\n",
       "day name                                            Thursday       Friday"
      ]
     },
     "execution_count": 201,
     "metadata": {},
     "output_type": "execute_result"
    }
   ],
   "source": [
    "get_table_details('budget')"
   ]
  },
  {
   "cell_type": "markdown",
   "metadata": {},
   "source": [
    "## - longest and shortest runtime values?"
   ]
  },
  {
   "cell_type": "code",
   "execution_count": 202,
   "metadata": {},
   "outputs": [
    {
     "data": {
      "text/html": [
       "<div>\n",
       "<style scoped>\n",
       "    .dataframe tbody tr th:only-of-type {\n",
       "        vertical-align: middle;\n",
       "    }\n",
       "\n",
       "    .dataframe tbody tr th {\n",
       "        vertical-align: top;\n",
       "    }\n",
       "\n",
       "    .dataframe thead th {\n",
       "        text-align: right;\n",
       "    }\n",
       "</style>\n",
       "<table border=\"1\" class=\"dataframe\">\n",
       "  <thead>\n",
       "    <tr style=\"text-align: right;\">\n",
       "      <th></th>\n",
       "      <th>3894</th>\n",
       "      <th>4883</th>\n",
       "    </tr>\n",
       "  </thead>\n",
       "  <tbody>\n",
       "    <tr>\n",
       "      <th>popularity</th>\n",
       "      <td>0.006925</td>\n",
       "      <td>0.078472</td>\n",
       "    </tr>\n",
       "    <tr>\n",
       "      <th>budget</th>\n",
       "      <td>12173954</td>\n",
       "      <td>12173954</td>\n",
       "    </tr>\n",
       "    <tr>\n",
       "      <th>revenue</th>\n",
       "      <td>42888542</td>\n",
       "      <td>42888542</td>\n",
       "    </tr>\n",
       "    <tr>\n",
       "      <th>profit_earned</th>\n",
       "      <td>30714588</td>\n",
       "      <td>30714588</td>\n",
       "    </tr>\n",
       "    <tr>\n",
       "      <th>original_title</th>\n",
       "      <td>The Story of Film: An Odyssey</td>\n",
       "      <td>Fresh Guacamole</td>\n",
       "    </tr>\n",
       "    <tr>\n",
       "      <th>director</th>\n",
       "      <td>Mark Cousins</td>\n",
       "      <td>PES</td>\n",
       "    </tr>\n",
       "    <tr>\n",
       "      <th>runtime</th>\n",
       "      <td>900</td>\n",
       "      <td>2</td>\n",
       "    </tr>\n",
       "    <tr>\n",
       "      <th>genres</th>\n",
       "      <td>Documentary</td>\n",
       "      <td>Animation</td>\n",
       "    </tr>\n",
       "    <tr>\n",
       "      <th>vote_count</th>\n",
       "      <td>14</td>\n",
       "      <td>29</td>\n",
       "    </tr>\n",
       "    <tr>\n",
       "      <th>vote_average</th>\n",
       "      <td>9.2</td>\n",
       "      <td>7.9</td>\n",
       "    </tr>\n",
       "    <tr>\n",
       "      <th>budget_adj</th>\n",
       "      <td>11200033</td>\n",
       "      <td>11200033</td>\n",
       "    </tr>\n",
       "    <tr>\n",
       "      <th>revenue_adj</th>\n",
       "      <td>39457441</td>\n",
       "      <td>39457441</td>\n",
       "    </tr>\n",
       "    <tr>\n",
       "      <th>profit_earned_adj</th>\n",
       "      <td>28257408</td>\n",
       "      <td>28257408</td>\n",
       "    </tr>\n",
       "    <tr>\n",
       "      <th>year</th>\n",
       "      <td>2011</td>\n",
       "      <td>2012</td>\n",
       "    </tr>\n",
       "    <tr>\n",
       "      <th>month</th>\n",
       "      <td>9</td>\n",
       "      <td>3</td>\n",
       "    </tr>\n",
       "    <tr>\n",
       "      <th>day name</th>\n",
       "      <td>Saturday</td>\n",
       "      <td>Friday</td>\n",
       "    </tr>\n",
       "  </tbody>\n",
       "</table>\n",
       "</div>"
      ],
      "text/plain": [
       "                                            3894             4883\n",
       "popularity                              0.006925         0.078472\n",
       "budget                                  12173954         12173954\n",
       "revenue                                 42888542         42888542\n",
       "profit_earned                           30714588         30714588\n",
       "original_title     The Story of Film: An Odyssey  Fresh Guacamole\n",
       "director                            Mark Cousins              PES\n",
       "runtime                                      900                2\n",
       "genres                               Documentary        Animation\n",
       "vote_count                                    14               29\n",
       "vote_average                                 9.2              7.9\n",
       "budget_adj                              11200033         11200033\n",
       "revenue_adj                             39457441         39457441\n",
       "profit_earned_adj                       28257408         28257408\n",
       "year                                        2011             2012\n",
       "month                                          9                3\n",
       "day name                                Saturday           Friday"
      ]
     },
     "execution_count": 202,
     "metadata": {},
     "output_type": "execute_result"
    }
   ],
   "source": [
    "get_table_details('runtime')"
   ]
  },
  {
   "cell_type": "markdown",
   "metadata": {},
   "source": [
    "## - most and least profit"
   ]
  },
  {
   "cell_type": "code",
   "execution_count": 203,
   "metadata": {},
   "outputs": [
    {
     "data": {
      "text/html": [
       "<div>\n",
       "<style scoped>\n",
       "    .dataframe tbody tr th:only-of-type {\n",
       "        vertical-align: middle;\n",
       "    }\n",
       "\n",
       "    .dataframe tbody tr th {\n",
       "        vertical-align: top;\n",
       "    }\n",
       "\n",
       "    .dataframe thead th {\n",
       "        text-align: right;\n",
       "    }\n",
       "</style>\n",
       "<table border=\"1\" class=\"dataframe\">\n",
       "  <thead>\n",
       "    <tr style=\"text-align: right;\">\n",
       "      <th></th>\n",
       "      <th>1386</th>\n",
       "      <th>2244</th>\n",
       "    </tr>\n",
       "  </thead>\n",
       "  <tbody>\n",
       "    <tr>\n",
       "      <th>popularity</th>\n",
       "      <td>9.43277</td>\n",
       "      <td>0.25054</td>\n",
       "    </tr>\n",
       "    <tr>\n",
       "      <th>budget</th>\n",
       "      <td>237000000</td>\n",
       "      <td>425000000</td>\n",
       "    </tr>\n",
       "    <tr>\n",
       "      <th>revenue</th>\n",
       "      <td>2781505847</td>\n",
       "      <td>11087569</td>\n",
       "    </tr>\n",
       "    <tr>\n",
       "      <th>profit_earned</th>\n",
       "      <td>2544505847</td>\n",
       "      <td>-413912431</td>\n",
       "    </tr>\n",
       "    <tr>\n",
       "      <th>original_title</th>\n",
       "      <td>Avatar</td>\n",
       "      <td>The Warrior's Way</td>\n",
       "    </tr>\n",
       "    <tr>\n",
       "      <th>director</th>\n",
       "      <td>James Cameron</td>\n",
       "      <td>Sngmoo Lee</td>\n",
       "    </tr>\n",
       "    <tr>\n",
       "      <th>runtime</th>\n",
       "      <td>162</td>\n",
       "      <td>100</td>\n",
       "    </tr>\n",
       "    <tr>\n",
       "      <th>genres</th>\n",
       "      <td>Action|Adventure|Fantasy|Science Fiction</td>\n",
       "      <td>Adventure|Fantasy|Action|Western|Thriller</td>\n",
       "    </tr>\n",
       "    <tr>\n",
       "      <th>vote_count</th>\n",
       "      <td>8458</td>\n",
       "      <td>74</td>\n",
       "    </tr>\n",
       "    <tr>\n",
       "      <th>vote_average</th>\n",
       "      <td>7.1</td>\n",
       "      <td>6.4</td>\n",
       "    </tr>\n",
       "    <tr>\n",
       "      <th>budget_adj</th>\n",
       "      <td>240886902</td>\n",
       "      <td>425000000</td>\n",
       "    </tr>\n",
       "    <tr>\n",
       "      <th>revenue_adj</th>\n",
       "      <td>2827123750</td>\n",
       "      <td>11087569</td>\n",
       "    </tr>\n",
       "    <tr>\n",
       "      <th>profit_earned_adj</th>\n",
       "      <td>2586236848</td>\n",
       "      <td>-413912431</td>\n",
       "    </tr>\n",
       "    <tr>\n",
       "      <th>year</th>\n",
       "      <td>2009</td>\n",
       "      <td>2010</td>\n",
       "    </tr>\n",
       "    <tr>\n",
       "      <th>month</th>\n",
       "      <td>12</td>\n",
       "      <td>12</td>\n",
       "    </tr>\n",
       "    <tr>\n",
       "      <th>day name</th>\n",
       "      <td>Thursday</td>\n",
       "      <td>Thursday</td>\n",
       "    </tr>\n",
       "  </tbody>\n",
       "</table>\n",
       "</div>"
      ],
      "text/plain": [
       "                                                       1386  \\\n",
       "popularity                                          9.43277   \n",
       "budget                                            237000000   \n",
       "revenue                                          2781505847   \n",
       "profit_earned                                    2544505847   \n",
       "original_title                                       Avatar   \n",
       "director                                      James Cameron   \n",
       "runtime                                                 162   \n",
       "genres             Action|Adventure|Fantasy|Science Fiction   \n",
       "vote_count                                             8458   \n",
       "vote_average                                            7.1   \n",
       "budget_adj                                        240886902   \n",
       "revenue_adj                                      2827123750   \n",
       "profit_earned_adj                                2586236848   \n",
       "year                                                   2009   \n",
       "month                                                    12   \n",
       "day name                                           Thursday   \n",
       "\n",
       "                                                        2244  \n",
       "popularity                                           0.25054  \n",
       "budget                                             425000000  \n",
       "revenue                                             11087569  \n",
       "profit_earned                                     -413912431  \n",
       "original_title                             The Warrior's Way  \n",
       "director                                          Sngmoo Lee  \n",
       "runtime                                                  100  \n",
       "genres             Adventure|Fantasy|Action|Western|Thriller  \n",
       "vote_count                                                74  \n",
       "vote_average                                             6.4  \n",
       "budget_adj                                         425000000  \n",
       "revenue_adj                                         11087569  \n",
       "profit_earned_adj                                 -413912431  \n",
       "year                                                    2010  \n",
       "month                                                     12  \n",
       "day name                                            Thursday  "
      ]
     },
     "execution_count": 203,
     "metadata": {},
     "output_type": "execute_result"
    }
   ],
   "source": [
    "#calling the function\n",
    "get_table_details('profit_earned')"
   ]
  },
  {
   "cell_type": "code",
   "execution_count": 204,
   "metadata": {},
   "outputs": [
    {
     "data": {
      "text/plain": [
       "<matplotlib.axes._subplots.AxesSubplot at 0x1b8fc961f08>"
      ]
     },
     "execution_count": 204,
     "metadata": {},
     "output_type": "execute_result"
    },
    {
     "data": {
      "image/png": "[encoded data removed]",
      "text/plain": [
       "<Figure size 432x288 with 1 Axes>"
      ]
     },
     "metadata": {
      "needs_background": "light"
     },
     "output_type": "display_data"
    }
   ],
   "source": [
    "#  plot the relaion between ['revenue_adj','budget_adj','revenue','budget'] in describe [ mean,std ,%25 ,%50, %75]\n",
    "\n",
    "describe[['revenue_adj','budget_adj','profit_earned_adj','revenue','budget','profit_earned']].iloc[[1,2,4,5,6]].plot.bar()"
   ]
  },
  {
   "cell_type": "markdown",
   "metadata": {},
   "source": [
    "### Conclusions\n",
    "- Average runtime = 102.4553471964352\n",
    "- longest runtime values=900.0\n",
    "- shortest runtime values = 2\n",
    "- most earned revenue= 2781505847\n",
    "- least earned revenue= 2\n",
    "- most earned budget= 425000000\n",
    "- least earned budget = 1"
   ]
  },
  {
   "cell_type": "markdown",
   "metadata": {},
   "source": [
    "## - Is there a relation between a movie runtime and the vote average?"
   ]
  },
  {
   "cell_type": "code",
   "execution_count": 205,
   "metadata": {},
   "outputs": [
    {
     "data": {
      "image/png": "[encoded data removed]",
      "text/plain": [
       "<Figure size 432x288 with 1 Axes>"
      ]
     },
     "metadata": {
      "needs_background": "light"
     },
     "output_type": "display_data"
    }
   ],
   "source": [
    "#Data to be plotted\n",
    "\n",
    "runtime_data = df['runtime']\n",
    "mean_vote_data = df['vote_average']\n",
    "\n",
    "#Plotting\n",
    "\n",
    "fig, ax = plt.subplots()\n",
    "\n",
    "#set the plot properties\n",
    "ax.set_title('Rel. between voting and runtime of movie')\n",
    "ax.set_xlabel('Movie Runtime')\n",
    "ax.set_ylabel('Vote Average')\n",
    "\n",
    "ax.scatter(runtime_data, mean_vote_data);\n"
   ]
  },
  {
   "cell_type": "markdown",
   "metadata": {},
   "source": [
    "### Conclusions\n",
    "- there are a Rel. between voting and runtime of movie as most Vote Average depend on intro of movie "
   ]
  },
  {
   "cell_type": "markdown",
   "metadata": {},
   "source": [
    "## - Is the number of movies increase from year to year?"
   ]
  },
  {
   "cell_type": "code",
   "execution_count": 206,
   "metadata": {},
   "outputs": [
    {
     "data": {
      "image/png": "[encoded data removed]",
      "text/plain": [
       "<Figure size 1440x864 with 1 Axes>"
      ]
     },
     "metadata": {
      "needs_background": "light"
     },
     "output_type": "display_data"
    }
   ],
   "source": [
    "database_n_year=df[\"year\"].value_counts()\n",
    "\n",
    "\n",
    "#Determine the data of the X axis and the data of the X axis\n",
    "\n",
    "x = database_n_year.index\n",
    "y = database_n_year\n",
    "\n",
    "#Plotting\n",
    "\n",
    "fig, ax = plt.subplots()\n",
    "\n",
    "#set the plot and ticks properties\n",
    "ax.figure.set_size_inches(20, 12)\n",
    "#ax.set_xticklabels(x,rotation=90)\n",
    "ax.set_title(\"Genres\")\n",
    "ax.set_xlabel('Genres')\n",
    "ax.set_ylabel('No. of Movies')\n",
    "\n",
    "ax.bar(x=x, height=y);"
   ]
  },
  {
   "cell_type": "markdown",
   "metadata": {},
   "source": [
    "### Conclusions\n",
    "- the number of movies increase from year to year as it is 32 movies in 1960 and it becames 694 movies in 2014"
   ]
  },
  {
   "cell_type": "markdown",
   "metadata": {},
   "source": [
    "## - Who are the top 5 directors according to high revenues?"
   ]
  },
  {
   "cell_type": "code",
   "execution_count": 207,
   "metadata": {},
   "outputs": [],
   "source": [
    "#Data to be plotted\n",
    "\n",
    "grouped_directors = df.groupby('director')['revenue_adj'].sum()\n",
    "grouped_directors = grouped_directors.sort_values(ascending = False)[:5]"
   ]
  },
  {
   "cell_type": "code",
   "execution_count": 208,
   "metadata": {},
   "outputs": [
    {
     "data": {
      "image/png": "[encoded data removed]",
      "text/plain": [
       "<Figure size 432x288 with 1 Axes>"
      ]
     },
     "metadata": {
      "needs_background": "light"
     },
     "output_type": "display_data"
    }
   ],
   "source": [
    "#Plotting\n",
    "\n",
    "fig, ax = plt.subplots()\n",
    "\n",
    "#set the plot and ticks properties\n",
    "ax.set_xticklabels(grouped_directors.index,rotation=90)\n",
    "ax.set_title(\"Top 5 Directors according to revenues\")\n",
    "ax.set_xlabel('Directors')\n",
    "ax.set_ylabel('Revenue')\n",
    "\n",
    "ax.bar(grouped_directors.index, grouped_directors);"
   ]
  },
  {
   "cell_type": "markdown",
   "metadata": {},
   "source": [
    "### Conclusions\n",
    "- Steven Spielberg  is the most top 5 directors according to high revenues = 15281361654\n",
    "- Robert Zemeckis is the least top 5 directors according to high revenues = 5734563123"
   ]
  },
  {
   "cell_type": "markdown",
   "metadata": {},
   "source": [
    "## - Is there an improvement in the quality of movies from year to year?"
   ]
  },
  {
   "cell_type": "code",
   "execution_count": 209,
   "metadata": {},
   "outputs": [],
   "source": [
    "#Data to be plotted\n",
    "\n",
    "mean_vote_data = df.groupby('year')['vote_average'].mean()\n",
    "mean_budget_data = df.groupby('year')['budget_adj'].mean()"
   ]
  },
  {
   "cell_type": "code",
   "execution_count": 210,
   "metadata": {},
   "outputs": [
    {
     "data": {
      "text/plain": [
       "[<matplotlib.lines.Line2D at 0x1b8fb487ec8>]"
      ]
     },
     "execution_count": 210,
     "metadata": {},
     "output_type": "execute_result"
    },
    {
     "data": {
      "image/png": "[encoded data removed]",
      "text/plain": [
       "<Figure size 432x288 with 2 Axes>"
      ]
     },
     "metadata": {
      "needs_background": "light"
     },
     "output_type": "display_data"
    }
   ],
   "source": [
    "#Plotting\n",
    "\n",
    "fig, ax = plt.subplots()\n",
    "\n",
    "#Make a twin plot with shared x axis\n",
    "ax2 = ax.twinx()\n",
    "\n",
    "#set the plot properties\n",
    "ax.set_xlabel('Years')\n",
    "ax.set_ylabel('Vote Average',color='y')\n",
    "ax2.set_ylabel('Average Budget',color='r')\n",
    "ax.set_title('Rel. between average rate and average budget')\n",
    "\n",
    "ax.annotate('Top Rated Movies',xy=(mean_vote_data.idxmax(),mean_vote_data.max()),xytext=(1978,mean_vote_data.max()),arrowprops={\"arrowstyle\":\"->\", \"color\":\"gray\"})\n",
    "ax.annotate('Low Average Budget',xy=(mean_budget_data.idxmin(),5.8),xytext=(1978,5.8),arrowprops={\"arrowstyle\":\"->\", \"color\":\"gray\"})\n",
    "\n",
    "ax2.plot(mean_budget_data.index, mean_budget_data,linestyle='--',color='red')\n",
    "ax.plot(mean_vote_data.index, mean_vote_data,color='y')"
   ]
  },
  {
   "cell_type": "markdown",
   "metadata": {},
   "source": [
    "### Conclusions\n",
    "- there are an bad in the quality of movies from year to year \n",
    "- there are an increase in  average budget of movies from year to year"
   ]
  },
  {
   "cell_type": "markdown",
   "metadata": {},
   "source": [
    "## - What kinds of properties are associated with movies that have high revenues?"
   ]
  },
  {
   "cell_type": "code",
   "execution_count": 211,
   "metadata": {},
   "outputs": [
    {
     "data": {
      "text/html": [
       "<div>\n",
       "<style scoped>\n",
       "    .dataframe tbody tr th:only-of-type {\n",
       "        vertical-align: middle;\n",
       "    }\n",
       "\n",
       "    .dataframe tbody tr th {\n",
       "        vertical-align: top;\n",
       "    }\n",
       "\n",
       "    .dataframe thead th {\n",
       "        text-align: right;\n",
       "    }\n",
       "</style>\n",
       "<table border=\"1\" class=\"dataframe\">\n",
       "  <thead>\n",
       "    <tr style=\"text-align: right;\">\n",
       "      <th></th>\n",
       "      <th>popularity</th>\n",
       "      <th>budget</th>\n",
       "      <th>revenue</th>\n",
       "      <th>profit_earned</th>\n",
       "      <th>original_title</th>\n",
       "      <th>director</th>\n",
       "      <th>runtime</th>\n",
       "      <th>genres</th>\n",
       "      <th>vote_count</th>\n",
       "      <th>vote_average</th>\n",
       "      <th>budget_adj</th>\n",
       "      <th>revenue_adj</th>\n",
       "      <th>profit_earned_adj</th>\n",
       "      <th>year</th>\n",
       "      <th>month</th>\n",
       "      <th>day name</th>\n",
       "    </tr>\n",
       "  </thead>\n",
       "  <tbody>\n",
       "    <tr>\n",
       "      <th>1386</th>\n",
       "      <td>9.432768</td>\n",
       "      <td>237000000</td>\n",
       "      <td>2781505847</td>\n",
       "      <td>2544505847</td>\n",
       "      <td>Avatar</td>\n",
       "      <td>James Cameron</td>\n",
       "      <td>162.0</td>\n",
       "      <td>Action|Adventure|Fantasy|Science Fiction</td>\n",
       "      <td>8458</td>\n",
       "      <td>7.1</td>\n",
       "      <td>240886902</td>\n",
       "      <td>2827123750</td>\n",
       "      <td>2586236848</td>\n",
       "      <td>2009</td>\n",
       "      <td>12</td>\n",
       "      <td>Thursday</td>\n",
       "    </tr>\n",
       "    <tr>\n",
       "      <th>1329</th>\n",
       "      <td>12.037933</td>\n",
       "      <td>11000000</td>\n",
       "      <td>775398007</td>\n",
       "      <td>764398007</td>\n",
       "      <td>Star Wars</td>\n",
       "      <td>George Lucas</td>\n",
       "      <td>121.0</td>\n",
       "      <td>Adventure|Action|Science Fiction</td>\n",
       "      <td>4428</td>\n",
       "      <td>7.9</td>\n",
       "      <td>39575591</td>\n",
       "      <td>2789712242</td>\n",
       "      <td>2750136651</td>\n",
       "      <td>1977</td>\n",
       "      <td>3</td>\n",
       "      <td>Sunday</td>\n",
       "    </tr>\n",
       "    <tr>\n",
       "      <th>5231</th>\n",
       "      <td>4.355219</td>\n",
       "      <td>200000000</td>\n",
       "      <td>1845034188</td>\n",
       "      <td>1645034188</td>\n",
       "      <td>Titanic</td>\n",
       "      <td>James Cameron</td>\n",
       "      <td>194.0</td>\n",
       "      <td>Drama|Romance|Thriller</td>\n",
       "      <td>4654</td>\n",
       "      <td>7.3</td>\n",
       "      <td>271692064</td>\n",
       "      <td>2506405735</td>\n",
       "      <td>2234713671</td>\n",
       "      <td>1997</td>\n",
       "      <td>11</td>\n",
       "      <td>Tuesday</td>\n",
       "    </tr>\n",
       "    <tr>\n",
       "      <th>10594</th>\n",
       "      <td>2.010733</td>\n",
       "      <td>8000000</td>\n",
       "      <td>441306145</td>\n",
       "      <td>433306145</td>\n",
       "      <td>The Exorcist</td>\n",
       "      <td>William Friedkin</td>\n",
       "      <td>122.0</td>\n",
       "      <td>Drama|Horror|Thriller</td>\n",
       "      <td>1113</td>\n",
       "      <td>7.2</td>\n",
       "      <td>39289276</td>\n",
       "      <td>2167324901</td>\n",
       "      <td>2128035625</td>\n",
       "      <td>1973</td>\n",
       "      <td>12</td>\n",
       "      <td>Wednesday</td>\n",
       "    </tr>\n",
       "    <tr>\n",
       "      <th>9806</th>\n",
       "      <td>2.563191</td>\n",
       "      <td>7000000</td>\n",
       "      <td>470654000</td>\n",
       "      <td>463654000</td>\n",
       "      <td>Jaws</td>\n",
       "      <td>Steven Spielberg</td>\n",
       "      <td>124.0</td>\n",
       "      <td>Horror|Thriller|Adventure</td>\n",
       "      <td>1415</td>\n",
       "      <td>7.3</td>\n",
       "      <td>28362748</td>\n",
       "      <td>1907005841</td>\n",
       "      <td>1878643093</td>\n",
       "      <td>1975</td>\n",
       "      <td>6</td>\n",
       "      <td>Wednesday</td>\n",
       "    </tr>\n",
       "  </tbody>\n",
       "</table>\n",
       "</div>"
      ],
      "text/plain": [
       "       popularity     budget     revenue  profit_earned original_title  \\\n",
       "1386     9.432768  237000000  2781505847     2544505847         Avatar   \n",
       "1329    12.037933   11000000   775398007      764398007      Star Wars   \n",
       "5231     4.355219  200000000  1845034188     1645034188        Titanic   \n",
       "10594    2.010733    8000000   441306145      433306145   The Exorcist   \n",
       "9806     2.563191    7000000   470654000      463654000           Jaws   \n",
       "\n",
       "               director  runtime                                    genres  \\\n",
       "1386      James Cameron    162.0  Action|Adventure|Fantasy|Science Fiction   \n",
       "1329       George Lucas    121.0          Adventure|Action|Science Fiction   \n",
       "5231      James Cameron    194.0                    Drama|Romance|Thriller   \n",
       "10594  William Friedkin    122.0                     Drama|Horror|Thriller   \n",
       "9806   Steven Spielberg    124.0                 Horror|Thriller|Adventure   \n",
       "\n",
       "       vote_count  vote_average  budget_adj  revenue_adj  profit_earned_adj  \\\n",
       "1386         8458           7.1   240886902   2827123750         2586236848   \n",
       "1329         4428           7.9    39575591   2789712242         2750136651   \n",
       "5231         4654           7.3   271692064   2506405735         2234713671   \n",
       "10594        1113           7.2    39289276   2167324901         2128035625   \n",
       "9806         1415           7.3    28362748   1907005841         1878643093   \n",
       "\n",
       "       year  month   day name  \n",
       "1386   2009     12   Thursday  \n",
       "1329   1977      3     Sunday  \n",
       "5231   1997     11    Tuesday  \n",
       "10594  1973     12  Wednesday  \n",
       "9806   1975      6  Wednesday  "
      ]
     },
     "execution_count": 211,
     "metadata": {},
     "output_type": "execute_result"
    }
   ],
   "source": [
    "#Sorting the data by the revenue_adj column descendingly\n",
    "\n",
    "df.sort_values(by='revenue_adj',ascending = False,inplace=True)\n",
    "\n",
    "#print out the first  rows of our data\n",
    "\n",
    "df.head()"
   ]
  },
  {
   "cell_type": "code",
   "execution_count": 212,
   "metadata": {},
   "outputs": [
    {
     "data": {
      "text/html": [
       "<div>\n",
       "<style scoped>\n",
       "    .dataframe tbody tr th:only-of-type {\n",
       "        vertical-align: middle;\n",
       "    }\n",
       "\n",
       "    .dataframe tbody tr th {\n",
       "        vertical-align: top;\n",
       "    }\n",
       "\n",
       "    .dataframe thead th {\n",
       "        text-align: right;\n",
       "    }\n",
       "</style>\n",
       "<table border=\"1\" class=\"dataframe\">\n",
       "  <thead>\n",
       "    <tr style=\"text-align: right;\">\n",
       "      <th></th>\n",
       "      <th>popularity</th>\n",
       "      <th>budget</th>\n",
       "      <th>revenue</th>\n",
       "      <th>profit_earned</th>\n",
       "      <th>runtime</th>\n",
       "      <th>vote_count</th>\n",
       "      <th>vote_average</th>\n",
       "      <th>budget_adj</th>\n",
       "      <th>revenue_adj</th>\n",
       "      <th>profit_earned_adj</th>\n",
       "      <th>year</th>\n",
       "      <th>month</th>\n",
       "    </tr>\n",
       "  </thead>\n",
       "  <tbody>\n",
       "    <tr>\n",
       "      <th>count</th>\n",
       "      <td>10800.000000</td>\n",
       "      <td>1.080000e+04</td>\n",
       "      <td>1.080000e+04</td>\n",
       "      <td>1.080000e+04</td>\n",
       "      <td>10772.000000</td>\n",
       "      <td>10800.000000</td>\n",
       "      <td>10800.000000</td>\n",
       "      <td>1.080000e+04</td>\n",
       "      <td>1.080000e+04</td>\n",
       "      <td>1.080000e+04</td>\n",
       "      <td>10800.000000</td>\n",
       "      <td>10800.000000</td>\n",
       "    </tr>\n",
       "    <tr>\n",
       "      <th>mean</th>\n",
       "      <td>0.649455</td>\n",
       "      <td>2.106414e+07</td>\n",
       "      <td>6.370193e+07</td>\n",
       "      <td>4.263779e+07</td>\n",
       "      <td>102.455347</td>\n",
       "      <td>218.600741</td>\n",
       "      <td>5.970880</td>\n",
       "      <td>2.349913e+07</td>\n",
       "      <td>7.342257e+07</td>\n",
       "      <td>4.992344e+07</td>\n",
       "      <td>2001.289537</td>\n",
       "      <td>6.826944</td>\n",
       "    </tr>\n",
       "    <tr>\n",
       "      <th>std</th>\n",
       "      <td>1.002441</td>\n",
       "      <td>2.846448e+07</td>\n",
       "      <td>1.110168e+08</td>\n",
       "      <td>9.320005e+07</td>\n",
       "      <td>30.379156</td>\n",
       "      <td>577.165055</td>\n",
       "      <td>0.933006</td>\n",
       "      <td>3.173601e+07</td>\n",
       "      <td>1.384478e+08</td>\n",
       "      <td>1.215185e+08</td>\n",
       "      <td>12.819545</td>\n",
       "      <td>3.437907</td>\n",
       "    </tr>\n",
       "    <tr>\n",
       "      <th>min</th>\n",
       "      <td>0.000188</td>\n",
       "      <td>1.000000e+00</td>\n",
       "      <td>2.000000e+00</td>\n",
       "      <td>-4.139124e+08</td>\n",
       "      <td>2.000000</td>\n",
       "      <td>10.000000</td>\n",
       "      <td>1.500000</td>\n",
       "      <td>0.000000e+00</td>\n",
       "      <td>2.000000e+00</td>\n",
       "      <td>-4.139124e+08</td>\n",
       "      <td>1960.000000</td>\n",
       "      <td>1.000000</td>\n",
       "    </tr>\n",
       "    <tr>\n",
       "      <th>25%</th>\n",
       "      <td>0.209157</td>\n",
       "      <td>1.217395e+07</td>\n",
       "      <td>4.049083e+07</td>\n",
       "      <td>1.514215e+07</td>\n",
       "      <td>90.000000</td>\n",
       "      <td>17.000000</td>\n",
       "      <td>5.400000</td>\n",
       "      <td>1.120003e+07</td>\n",
       "      <td>3.945744e+07</td>\n",
       "      <td>1.744532e+07</td>\n",
       "      <td>1995.000000</td>\n",
       "      <td>4.000000</td>\n",
       "    </tr>\n",
       "    <tr>\n",
       "      <th>50%</th>\n",
       "      <td>0.385471</td>\n",
       "      <td>1.217395e+07</td>\n",
       "      <td>4.288854e+07</td>\n",
       "      <td>3.071459e+07</td>\n",
       "      <td>99.000000</td>\n",
       "      <td>39.000000</td>\n",
       "      <td>6.000000</td>\n",
       "      <td>1.120003e+07</td>\n",
       "      <td>3.945744e+07</td>\n",
       "      <td>2.825741e+07</td>\n",
       "      <td>2006.000000</td>\n",
       "      <td>7.000000</td>\n",
       "    </tr>\n",
       "    <tr>\n",
       "      <th>75%</th>\n",
       "      <td>0.717508</td>\n",
       "      <td>1.564374e+07</td>\n",
       "      <td>4.288854e+07</td>\n",
       "      <td>3.071459e+07</td>\n",
       "      <td>112.000000</td>\n",
       "      <td>147.000000</td>\n",
       "      <td>6.600000</td>\n",
       "      <td>2.103337e+07</td>\n",
       "      <td>3.945744e+07</td>\n",
       "      <td>3.196784e+07</td>\n",
       "      <td>2011.000000</td>\n",
       "      <td>10.000000</td>\n",
       "    </tr>\n",
       "    <tr>\n",
       "      <th>max</th>\n",
       "      <td>32.985763</td>\n",
       "      <td>4.250000e+08</td>\n",
       "      <td>2.781506e+09</td>\n",
       "      <td>2.544506e+09</td>\n",
       "      <td>900.000000</td>\n",
       "      <td>9767.000000</td>\n",
       "      <td>9.200000</td>\n",
       "      <td>4.250000e+08</td>\n",
       "      <td>2.827124e+09</td>\n",
       "      <td>2.750137e+09</td>\n",
       "      <td>2015.000000</td>\n",
       "      <td>12.000000</td>\n",
       "    </tr>\n",
       "  </tbody>\n",
       "</table>\n",
       "</div>"
      ],
      "text/plain": [
       "         popularity        budget       revenue  profit_earned       runtime  \\\n",
       "count  10800.000000  1.080000e+04  1.080000e+04   1.080000e+04  10772.000000   \n",
       "mean       0.649455  2.106414e+07  6.370193e+07   4.263779e+07    102.455347   \n",
       "std        1.002441  2.846448e+07  1.110168e+08   9.320005e+07     30.379156   \n",
       "min        0.000188  1.000000e+00  2.000000e+00  -4.139124e+08      2.000000   \n",
       "25%        0.209157  1.217395e+07  4.049083e+07   1.514215e+07     90.000000   \n",
       "50%        0.385471  1.217395e+07  4.288854e+07   3.071459e+07     99.000000   \n",
       "75%        0.717508  1.564374e+07  4.288854e+07   3.071459e+07    112.000000   \n",
       "max       32.985763  4.250000e+08  2.781506e+09   2.544506e+09    900.000000   \n",
       "\n",
       "         vote_count  vote_average    budget_adj   revenue_adj  \\\n",
       "count  10800.000000  10800.000000  1.080000e+04  1.080000e+04   \n",
       "mean     218.600741      5.970880  2.349913e+07  7.342257e+07   \n",
       "std      577.165055      0.933006  3.173601e+07  1.384478e+08   \n",
       "min       10.000000      1.500000  0.000000e+00  2.000000e+00   \n",
       "25%       17.000000      5.400000  1.120003e+07  3.945744e+07   \n",
       "50%       39.000000      6.000000  1.120003e+07  3.945744e+07   \n",
       "75%      147.000000      6.600000  2.103337e+07  3.945744e+07   \n",
       "max     9767.000000      9.200000  4.250000e+08  2.827124e+09   \n",
       "\n",
       "       profit_earned_adj          year         month  \n",
       "count       1.080000e+04  10800.000000  10800.000000  \n",
       "mean        4.992344e+07   2001.289537      6.826944  \n",
       "std         1.215185e+08     12.819545      3.437907  \n",
       "min        -4.139124e+08   1960.000000      1.000000  \n",
       "25%         1.744532e+07   1995.000000      4.000000  \n",
       "50%         2.825741e+07   2006.000000      7.000000  \n",
       "75%         3.196784e+07   2011.000000     10.000000  \n",
       "max         2.750137e+09   2015.000000     12.000000  "
      ]
     },
     "execution_count": 212,
     "metadata": {},
     "output_type": "execute_result"
    }
   ],
   "source": [
    "df.describe()"
   ]
  },
  {
   "cell_type": "code",
   "execution_count": 213,
   "metadata": {},
   "outputs": [
    {
     "data": {
      "image/png": "[encoded data removed]",
      "text/plain": [
       "<Figure size 1800x1080 with 12 Axes>"
      ]
     },
     "metadata": {
      "needs_background": "light"
     },
     "output_type": "display_data"
    }
   ],
   "source": [
    "#Plotting a histogram for the columns in the data\n",
    "\n",
    "df.hist(figsize = (25,15),bins=7);"
   ]
  },
  {
   "cell_type": "markdown",
   "metadata": {},
   "source": [
    "## Conclusions\n",
    "### Results :\n",
    "- The most movie genres watched are Drama and Comedy\n",
    "- As the runtime of the movie increases the voting rate of the movie increases also ( positive correlation )\n",
    "- As the years go by, the budget of the movies increases but, In contrast the quality of the movies decreases\n",
    "- The most director according to revenue is Steven Spielberg\n",
    "- The Number of movies increases from year to year\n",
    "\n",
    "\n",
    "### Limitations :\n",
    "- This dataset has a lot of columns with outliers such as revenue column\n",
    "- This dataset has a great number of unique values in each columns\n",
    "- This datatset has a lot of unneeded colums which needs to be removed for this analysis\n",
    "- This datatset has a lot of missing values which need to decide what to do with it\n",
    "- The cast column and some other columns has strings and seperated with '|' character which limited our analysis until it not solved"
   ]
  },
  {
   "cell_type": "code",
   "execution_count": 214,
   "metadata": {},
   "outputs": [
    {
     "data": {
      "text/plain": [
       "0"
      ]
     },
     "execution_count": 214,
     "metadata": {},
     "output_type": "execute_result"
    }
   ],
   "source": [
    "from subprocess import call\n",
    "call(['python', '-m', 'nbconvert', 'Investigate_a_Dataset.ipynb'])"
   ]
  },
  {
   "cell_type": "code",
   "execution_count": null,
   "metadata": {},
   "outputs": [],
   "source": []
  }
 ],
 "metadata": {
  "kernelspec": {
   "display_name": "Python 3",
   "language": "python",
   "name": "python3"
  },
  "language_info": {
   "codemirror_mode": {
    "name": "ipython",
    "version": 3
   },
   "file_extension": ".py",
   "mimetype": "text/x-python",
   "name": "python",
   "nbconvert_exporter": "python",
   "pygments_lexer": "ipython3",
   "version": "3.7.6"
  }
 },
 "nbformat": 4,
 "nbformat_minor": 4
}
